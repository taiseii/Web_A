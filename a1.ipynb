{
 "cells": [
  {
   "cell_type": "code",
   "execution_count": 2,
   "metadata": {},
   "outputs": [],
   "source": [
    "import matplotlib.pyplot as plt\n",
    "import pandas as pd\n",
    "import numpy as np\n",
    "%matplotlib inline"
   ]
  },
  {
   "cell_type": "code",
   "execution_count": 3,
   "metadata": {},
   "outputs": [],
   "source": [
    "data = pd.read_csv('speed-dating.csv')"
   ]
  },
  {
   "cell_type": "code",
   "execution_count": 209,
   "metadata": {},
   "outputs": [
    {
     "data": {
      "text/plain": [
       "44"
      ]
     },
     "execution_count": 209,
     "metadata": {},
     "output_type": "execute_result"
    }
   ],
   "source": [
    "len(data.dropna())"
   ]
  },
  {
   "cell_type": "code",
   "execution_count": 279,
   "metadata": {},
   "outputs": [
    {
     "name": "stdout",
     "output_type": "stream",
     "text": [
      "Index(['id', 'date nr', 'date position', 'date same race',\n",
      "       'date subject met before', 'date partner met before',\n",
      "       'date subject prob receive yes', 'date partner prob receive yes',\n",
      "       'date subject rates partner', 'date partner rates subject',\n",
      "       ...\n",
      "       'partner funny d', 'partner intellect d', 'partner sincere d',\n",
      "       'partner preference ambition d', 'partner preference attractive d',\n",
      "       'partner preference funny d', 'partner preference intellect d',\n",
      "       'partner preference sincere d', 'partner preference shared interests d',\n",
      "       'date match binary'],\n",
      "      dtype='object', length=212)\n"
     ]
    },
    {
     "data": {
      "text/html": [
       "<div>\n",
       "<style scoped>\n",
       "    .dataframe tbody tr th:only-of-type {\n",
       "        vertical-align: middle;\n",
       "    }\n",
       "\n",
       "    .dataframe tbody tr th {\n",
       "        vertical-align: top;\n",
       "    }\n",
       "\n",
       "    .dataframe thead th {\n",
       "        text-align: right;\n",
       "    }\n",
       "</style>\n",
       "<table border=\"1\" class=\"dataframe\">\n",
       "  <thead>\n",
       "    <tr style=\"text-align: right;\">\n",
       "      <th></th>\n",
       "      <th>id</th>\n",
       "      <th>date nr</th>\n",
       "      <th>date position</th>\n",
       "      <th>date same race</th>\n",
       "      <th>date subject met before</th>\n",
       "      <th>date partner met before</th>\n",
       "      <th>date subject prob receive yes</th>\n",
       "      <th>date partner prob receive yes</th>\n",
       "      <th>date subject rates partner</th>\n",
       "      <th>date partner rates subject</th>\n",
       "      <th>...</th>\n",
       "      <th>partner funny d</th>\n",
       "      <th>partner intellect d</th>\n",
       "      <th>partner sincere d</th>\n",
       "      <th>partner preference ambition d</th>\n",
       "      <th>partner preference attractive d</th>\n",
       "      <th>partner preference funny d</th>\n",
       "      <th>partner preference intellect d</th>\n",
       "      <th>partner preference sincere d</th>\n",
       "      <th>partner preference shared interests d</th>\n",
       "      <th>date match binary</th>\n",
       "    </tr>\n",
       "  </thead>\n",
       "  <tbody>\n",
       "    <tr>\n",
       "      <th>0</th>\n",
       "      <td>0</td>\n",
       "      <td>4</td>\n",
       "      <td>7</td>\n",
       "      <td>False</td>\n",
       "      <td>False</td>\n",
       "      <td>False</td>\n",
       "      <td>6.0</td>\n",
       "      <td>4.0</td>\n",
       "      <td>7.0</td>\n",
       "      <td>7.0</td>\n",
       "      <td>...</td>\n",
       "      <td>[1/4: 2.0 - 7.0 (7.0)]</td>\n",
       "      <td>[1/4: 3.0 - 8.0 (8.0)]</td>\n",
       "      <td>[3/4: 9.0 - 9.0 (9.0)]</td>\n",
       "      <td>[1/4: 0.0 - 5.0 (0.0)]</td>\n",
       "      <td>[4/4: 26.0 - 100.0 (35.0)]</td>\n",
       "      <td>[3/4: 19.0 - 20.0 (20.0)]</td>\n",
       "      <td>[2/4: 18.0 - 20.0 (20.0)]</td>\n",
       "      <td>[3/4: 19.0 - 20.0 (20.0)]</td>\n",
       "      <td>[1/4: 0.0 - 10.0 (5.0)]</td>\n",
       "      <td>0</td>\n",
       "    </tr>\n",
       "    <tr>\n",
       "      <th>1</th>\n",
       "      <td>1</td>\n",
       "      <td>3</td>\n",
       "      <td>7</td>\n",
       "      <td>False</td>\n",
       "      <td>True</td>\n",
       "      <td>False</td>\n",
       "      <td>5.0</td>\n",
       "      <td>4.0</td>\n",
       "      <td>7.0</td>\n",
       "      <td>8.0</td>\n",
       "      <td>...</td>\n",
       "      <td>[3/4: 9.0 - 9.0 (9.0)]</td>\n",
       "      <td>[4/4: 10.0 - 10.0 (10.0)]</td>\n",
       "      <td>[3/4: 9.0 - 9.0 (9.0)]</td>\n",
       "      <td>[1/4: 0.0 - 5.0 (0.0)]</td>\n",
       "      <td>[4/4: 26.0 - 100.0 (60.0)]</td>\n",
       "      <td>[4/4: 21.0 - 50.0 (40.0)]</td>\n",
       "      <td>[1/4: 0.0 - 17.0 (0.0)]</td>\n",
       "      <td>[1/4: 0.0 - 15.0 (0.0)]</td>\n",
       "      <td>[1/4: 0.0 - 10.0 (0.0)]</td>\n",
       "      <td>0</td>\n",
       "    </tr>\n",
       "  </tbody>\n",
       "</table>\n",
       "<p>2 rows × 212 columns</p>\n",
       "</div>"
      ],
      "text/plain": [
       "   id  date nr  date position  date same race date subject met before  \\\n",
       "0   0        4              7           False                   False   \n",
       "1   1        3              7           False                    True   \n",
       "\n",
       "  date partner met before  date subject prob receive yes  \\\n",
       "0                   False                            6.0   \n",
       "1                   False                            5.0   \n",
       "\n",
       "   date partner prob receive yes  date subject rates partner  \\\n",
       "0                            4.0                         7.0   \n",
       "1                            4.0                         7.0   \n",
       "\n",
       "   date partner rates subject        ...                partner funny d  \\\n",
       "0                         7.0        ...         [1/4: 2.0 - 7.0 (7.0)]   \n",
       "1                         8.0        ...         [3/4: 9.0 - 9.0 (9.0)]   \n",
       "\n",
       "         partner intellect d       partner sincere d  \\\n",
       "0     [1/4: 3.0 - 8.0 (8.0)]  [3/4: 9.0 - 9.0 (9.0)]   \n",
       "1  [4/4: 10.0 - 10.0 (10.0)]  [3/4: 9.0 - 9.0 (9.0)]   \n",
       "\n",
       "   partner preference ambition d  partner preference attractive d  \\\n",
       "0         [1/4: 0.0 - 5.0 (0.0)]       [4/4: 26.0 - 100.0 (35.0)]   \n",
       "1         [1/4: 0.0 - 5.0 (0.0)]       [4/4: 26.0 - 100.0 (60.0)]   \n",
       "\n",
       "  partner preference funny d  partner preference intellect d  \\\n",
       "0  [3/4: 19.0 - 20.0 (20.0)]       [2/4: 18.0 - 20.0 (20.0)]   \n",
       "1  [4/4: 21.0 - 50.0 (40.0)]         [1/4: 0.0 - 17.0 (0.0)]   \n",
       "\n",
       "  partner preference sincere d partner preference shared interests d  \\\n",
       "0    [3/4: 19.0 - 20.0 (20.0)]               [1/4: 0.0 - 10.0 (5.0)]   \n",
       "1      [1/4: 0.0 - 15.0 (0.0)]               [1/4: 0.0 - 10.0 (0.0)]   \n",
       "\n",
       "  date match binary  \n",
       "0                 0  \n",
       "1                 0  \n",
       "\n",
       "[2 rows x 212 columns]"
      ]
     },
     "execution_count": 279,
     "metadata": {},
     "output_type": "execute_result"
    }
   ],
   "source": [
    "print(data.columns)\n",
    "data.head(2)"
   ]
  },
  {
   "cell_type": "code",
   "execution_count": 98,
   "metadata": {},
   "outputs": [
    {
     "name": "stdout",
     "output_type": "stream",
     "text": [
      " Volume in drive C has no label.\n",
      " Volume Serial Number is 80B8-8562\n",
      "\n",
      " Directory of C:\\Users\\taiseii\\OneDrive - TU Eindhoven\\Documents\\WebA\\a1\n",
      "\n",
      "11/23/2018  06:19 PM    <DIR>          .\n",
      "11/23/2018  06:19 PM    <DIR>          ..\n",
      "11/21/2018  01:36 PM    <DIR>          .ipynb_checkpoints\n",
      "11/20/2018  05:59 PM               918 .Rhistory\n",
      "11/20/2018  11:04 AM           127,906 2IID0__Homework_1.pdf\n",
      "11/23/2018  05:59 PM           307,021 a1.ipynb\n",
      "11/20/2018  12:34 PM                 0 a1.py\n",
      "11/20/2018  05:59 PM               198 a1.r\n",
      "11/20/2018  11:01 AM           161,433 ConfusionMatrix-Titanic.csv\n",
      "11/23/2018  06:17 PM                 0 corr_table.html\n",
      "11/21/2018  07:30 PM            15,515 meta_data.csv\n",
      "11/23/2018  03:48 PM             2,843 mode_data.csv\n",
      "11/20/2018  11:01 AM        14,149,822 speed-dating.csv\n",
      "11/21/2018  06:37 PM            30,207 speed-dating-info.csv\n",
      "              11 File(s)     14,795,863 bytes\n",
      "               3 Dir(s)  939,572,523,008 bytes free\n"
     ]
    }
   ],
   "source": [
    "%ls"
   ]
  },
  {
   "cell_type": "code",
   "execution_count": 284,
   "metadata": {},
   "outputs": [],
   "source": [
    "race = data['subject importance of race']"
   ]
  },
  {
   "cell_type": "code",
   "execution_count": 318,
   "metadata": {},
   "outputs": [
    {
     "data": {
      "text/plain": [
       "array([ 2.,  8.,  1.,  4.,  7.,  3.,  9., 10.,  5.,  6.,  0.])"
      ]
     },
     "execution_count": 318,
     "metadata": {},
     "output_type": "execute_result"
    }
   ],
   "source": [
    "race.dropna().unique()"
   ]
  },
  {
   "cell_type": "code",
   "execution_count": 316,
   "metadata": {},
   "outputs": [
    {
     "data": {
      "image/png": "[encoded data removed]",
      "text/plain": [
       "<Figure size 648x648 with 1 Axes>"
      ]
     },
     "metadata": {
      "needs_background": "light"
     },
     "output_type": "display_data"
    }
   ],
   "source": [
    "plt.hist(race.dropna())\n",
    "plt.rcParams['figure.figsize'] = [10,10]"
   ]
  },
  {
   "cell_type": "code",
   "execution_count": 146,
   "metadata": {},
   "outputs": [
    {
     "data": {
      "text/plain": [
       "array([ 4.,  5.,  1.,  3.,  2.,  8., 10.,  6., nan,  7.,  9.])"
      ]
     },
     "execution_count": 146,
     "metadata": {},
     "output_type": "execute_result"
    }
   ],
   "source": [
    "religion = data['subject importance of religion']\n",
    "religion.unique()"
   ]
  },
  {
   "cell_type": "code",
   "execution_count": 22,
   "metadata": {},
   "outputs": [
    {
     "data": {
      "text/plain": [
       "(array([3032.,  863.,  929.,  524.,  697.,  661.,  467.,  517.,  282.,\n",
       "         327.]),\n",
       " array([ 1. ,  1.9,  2.8,  3.7,  4.6,  5.5,  6.4,  7.3,  8.2,  9.1, 10. ]),\n",
       " <a list of 10 Patch objects>)"
      ]
     },
     "execution_count": 22,
     "metadata": {},
     "output_type": "execute_result"
    },
    {
     "data": {
      "image/png": "[encoded data removed]",
      "text/plain": [
       "<Figure size 432x288 with 1 Axes>"
      ]
     },
     "metadata": {
      "needs_background": "light"
     },
     "output_type": "display_data"
    }
   ],
   "source": [
    "plt.hist(religion.dropna())"
   ]
  },
  {
   "cell_type": "code",
   "execution_count": 9,
   "metadata": {},
   "outputs": [],
   "source": [
    "rate_ptn = data['date subject rates partner']"
   ]
  },
  {
   "cell_type": "code",
   "execution_count": 16,
   "metadata": {},
   "outputs": [
    {
     "data": {
      "text/plain": [
       "(array([   8.,  110.,  223.,  396.,  645., 1322., 1711., 1836., 1280.,\n",
       "         607.]),\n",
       " array([ 0.,  1.,  2.,  3.,  4.,  5.,  6.,  7.,  8.,  9., 10.]),\n",
       " <a list of 10 Patch objects>)"
      ]
     },
     "execution_count": 16,
     "metadata": {},
     "output_type": "execute_result"
    },
    {
     "data": {
      "image/png": "[encoded data removed]",
      "text/plain": [
       "<Figure size 432x288 with 1 Axes>"
      ]
     },
     "metadata": {
      "needs_background": "light"
     },
     "output_type": "display_data"
    }
   ],
   "source": [
    "plt.hist(rate_ptn.dropna())"
   ]
  },
  {
   "cell_type": "code",
   "execution_count": 17,
   "metadata": {},
   "outputs": [],
   "source": [
    "rate_sbj = data['date partner rates subject']"
   ]
  },
  {
   "cell_type": "code",
   "execution_count": 19,
   "metadata": {},
   "outputs": [
    {
     "data": {
      "text/plain": [
       "(array([   8.,  110.,  223.,  394.,  644., 1321., 1710., 1833., 1278.,\n",
       "         607.]),\n",
       " array([ 0.,  1.,  2.,  3.,  4.,  5.,  6.,  7.,  8.,  9., 10.]),\n",
       " <a list of 10 Patch objects>)"
      ]
     },
     "execution_count": 19,
     "metadata": {},
     "output_type": "execute_result"
    },
    {
     "data": {
      "image/png": "[encoded data removed]",
      "text/plain": [
       "<Figure size 432x288 with 1 Axes>"
      ]
     },
     "metadata": {
      "needs_background": "light"
     },
     "output_type": "display_data"
    }
   ],
   "source": [
    "plt.hist(rate_sbj.dropna())"
   ]
  },
  {
   "cell_type": "code",
   "execution_count": 42,
   "metadata": {},
   "outputs": [],
   "source": [
    "rate_attr_dur = data['subject during date attractive']"
   ]
  },
  {
   "cell_type": "code",
   "execution_count": 43,
   "metadata": {},
   "outputs": [
    {
     "data": {
      "text/plain": [
       "array([nan,  8.,  5.,  7.,  9.,  6., 10.,  4.,  3.])"
      ]
     },
     "execution_count": 43,
     "metadata": {},
     "output_type": "execute_result"
    }
   ],
   "source": [
    "rate_attr_dur.nunique()\n",
    "rate_attr_dur.unique()"
   ]
  },
  {
   "cell_type": "code",
   "execution_count": 46,
   "metadata": {
    "collapsed": true
   },
   "outputs": [
    {
     "data": {
      "text/plain": [
       "1846    8.0\n",
       "1847    8.0\n",
       "1848    8.0\n",
       "1849    8.0\n",
       "1850    8.0\n",
       "1851    5.0\n",
       "1852    5.0\n",
       "1853    5.0\n",
       "1854    5.0\n",
       "1855    5.0\n",
       "1856    7.0\n",
       "1857    7.0\n",
       "1858    7.0\n",
       "1859    7.0\n",
       "1860    7.0\n",
       "1861    8.0\n",
       "1862    8.0\n",
       "1863    8.0\n",
       "1864    8.0\n",
       "1865    8.0\n",
       "1866    7.0\n",
       "1867    7.0\n",
       "1868    7.0\n",
       "1869    7.0\n",
       "1870    7.0\n",
       "1871    7.0\n",
       "1872    7.0\n",
       "1873    7.0\n",
       "1874    7.0\n",
       "1875    7.0\n",
       "       ... \n",
       "7380    7.0\n",
       "7381    7.0\n",
       "7382    7.0\n",
       "7383    7.0\n",
       "7384    7.0\n",
       "7385    7.0\n",
       "7386    8.0\n",
       "7387    8.0\n",
       "7388    8.0\n",
       "7389    8.0\n",
       "7390    8.0\n",
       "7391    8.0\n",
       "7392    6.0\n",
       "7393    6.0\n",
       "7394    6.0\n",
       "7395    6.0\n",
       "7396    6.0\n",
       "7397    6.0\n",
       "7398    7.0\n",
       "7399    7.0\n",
       "7400    7.0\n",
       "7401    7.0\n",
       "7402    7.0\n",
       "7403    7.0\n",
       "7404    8.0\n",
       "7405    8.0\n",
       "7406    8.0\n",
       "7407    8.0\n",
       "7408    8.0\n",
       "7409    8.0\n",
       "Name: subject during date attractive, Length: 4000, dtype: float64"
      ]
     },
     "execution_count": 46,
     "metadata": {},
     "output_type": "execute_result"
    }
   ],
   "source": [
    "rate_attr_dur.dropna()"
   ]
  },
  {
   "cell_type": "code",
   "execution_count": 44,
   "metadata": {},
   "outputs": [
    {
     "data": {
      "text/plain": [
       "(array([  70.,  119.,  318.,    0.,  411., 1267.,    0., 1272.,  367.,\n",
       "         176.]),\n",
       " array([ 3. ,  3.7,  4.4,  5.1,  5.8,  6.5,  7.2,  7.9,  8.6,  9.3, 10. ]),\n",
       " <a list of 10 Patch objects>)"
      ]
     },
     "execution_count": 44,
     "metadata": {},
     "output_type": "execute_result"
    },
    {
     "data": {
      "image/png": "[encoded data removed]",
      "text/plain": [
       "<Figure size 432x288 with 1 Axes>"
      ]
     },
     "metadata": {
      "needs_background": "light"
     },
     "output_type": "display_data"
    }
   ],
   "source": [
    "plt.hist(rate_attr_dur.dropna())"
   ]
  },
  {
   "cell_type": "code",
   "execution_count": 29,
   "metadata": {},
   "outputs": [],
   "source": [
    "rate_attr_aft_day = data['subject day after attractive']"
   ]
  },
  {
   "cell_type": "code",
   "execution_count": 31,
   "metadata": {},
   "outputs": [
    {
     "data": {
      "text/plain": [
       "(array([  55.,  104.,  107.,  331.,    0.,  827., 1598., 1040.,  237.,\n",
       "          78.]),\n",
       " array([ 2. ,  2.8,  3.6,  4.4,  5.2,  6. ,  6.8,  7.6,  8.4,  9.2, 10. ]),\n",
       " <a list of 10 Patch objects>)"
      ]
     },
     "execution_count": 31,
     "metadata": {},
     "output_type": "execute_result"
    },
    {
     "data": {
      "image/png": "[encoded data removed]",
      "text/plain": [
       "<Figure size 432x288 with 1 Axes>"
      ]
     },
     "metadata": {
      "needs_background": "light"
     },
     "output_type": "display_data"
    }
   ],
   "source": [
    "plt.hist(rate_attr_aft_day.dropna())"
   ]
  },
  {
   "cell_type": "code",
   "execution_count": 32,
   "metadata": {},
   "outputs": [],
   "source": [
    "rate_attr_aft_month = data['subject month after attractive']"
   ]
  },
  {
   "cell_type": "code",
   "execution_count": 34,
   "metadata": {},
   "outputs": [
    {
     "data": {
      "text/plain": [
       "(array([ 46.,  46.,  70.,  92.,   0., 413., 747., 388., 192.,  22.]),\n",
       " array([ 2. ,  2.8,  3.6,  4.4,  5.2,  6. ,  6.8,  7.6,  8.4,  9.2, 10. ]),\n",
       " <a list of 10 Patch objects>)"
      ]
     },
     "execution_count": 34,
     "metadata": {},
     "output_type": "execute_result"
    },
    {
     "data": {
      "image/png": "[encoded data removed]",
      "text/plain": [
       "<Figure size 432x288 with 1 Axes>"
      ]
     },
     "metadata": {
      "needs_background": "light"
     },
     "output_type": "display_data"
    }
   ],
   "source": [
    "plt.hist(rate_attr_aft_month.dropna())"
   ]
  },
  {
   "cell_type": "code",
   "execution_count": 15,
   "metadata": {},
   "outputs": [],
   "source": [
    "stf = data['subject satisfied_with dates']"
   ]
  },
  {
   "cell_type": "code",
   "execution_count": 35,
   "metadata": {},
   "outputs": [
    {
     "data": {
      "text/plain": [
       "(array([  73.,  412.,  520.,  722., 1272., 1886., 1383.,  894.,  239.,\n",
       "          62.]),\n",
       " array([ 1. ,  1.9,  2.8,  3.7,  4.6,  5.5,  6.4,  7.3,  8.2,  9.1, 10. ]),\n",
       " <a list of 10 Patch objects>)"
      ]
     },
     "execution_count": 35,
     "metadata": {},
     "output_type": "execute_result"
    },
    {
     "data": {
      "image/png": "[encoded data removed]",
      "text/plain": [
       "<Figure size 432x288 with 1 Axes>"
      ]
     },
     "metadata": {
      "needs_background": "light"
     },
     "output_type": "display_data"
    }
   ],
   "source": [
    "plt.hist(stf.dropna())"
   ]
  },
  {
   "cell_type": "code",
   "execution_count": 12,
   "metadata": {
    "scrolled": true
   },
   "outputs": [
    {
     "data": {
      "text/html": [
       "<div>\n",
       "<style scoped>\n",
       "    .dataframe tbody tr th:only-of-type {\n",
       "        vertical-align: middle;\n",
       "    }\n",
       "\n",
       "    .dataframe tbody tr th {\n",
       "        vertical-align: top;\n",
       "    }\n",
       "\n",
       "    .dataframe thead th {\n",
       "        text-align: right;\n",
       "    }\n",
       "</style>\n",
       "<table border=\"1\" class=\"dataframe\">\n",
       "  <thead>\n",
       "    <tr style=\"text-align: right;\">\n",
       "      <th></th>\n",
       "      <th>id</th>\n",
       "      <th>date nr</th>\n",
       "      <th>date position</th>\n",
       "      <th>date subject prob receive yes</th>\n",
       "      <th>date partner prob receive yes</th>\n",
       "      <th>date subject rates partner</th>\n",
       "      <th>date partner rates subject</th>\n",
       "      <th>subject local id</th>\n",
       "      <th>subject gender id</th>\n",
       "      <th>subject position_start</th>\n",
       "      <th>...</th>\n",
       "      <th>partner during date rating ambition</th>\n",
       "      <th>partner during date rating attractive</th>\n",
       "      <th>partner during date rating funny</th>\n",
       "      <th>partner during date rating intellect</th>\n",
       "      <th>partner during date rating shared interests</th>\n",
       "      <th>partner during date rating sincere</th>\n",
       "      <th>wave nr</th>\n",
       "      <th>wave n people</th>\n",
       "      <th>subject global id</th>\n",
       "      <th>partner global id</th>\n",
       "    </tr>\n",
       "  </thead>\n",
       "  <tbody>\n",
       "    <tr>\n",
       "      <th>count</th>\n",
       "      <td>8378.000000</td>\n",
       "      <td>8378.000000</td>\n",
       "      <td>8378.000000</td>\n",
       "      <td>8069.000000</td>\n",
       "      <td>8060.000000</td>\n",
       "      <td>8138.000000</td>\n",
       "      <td>8128.000000</td>\n",
       "      <td>8377.000000</td>\n",
       "      <td>8378.000000</td>\n",
       "      <td>6532.000000</td>\n",
       "      <td>...</td>\n",
       "      <td>7656.000000</td>\n",
       "      <td>8166.000000</td>\n",
       "      <td>8018.000000</td>\n",
       "      <td>8072.000000</td>\n",
       "      <td>7302.000000</td>\n",
       "      <td>8091.000000</td>\n",
       "      <td>8378.000000</td>\n",
       "      <td>8378.000000</td>\n",
       "      <td>8378.000000</td>\n",
       "      <td>8368.000000</td>\n",
       "    </tr>\n",
       "    <tr>\n",
       "      <th>mean</th>\n",
       "      <td>4188.500000</td>\n",
       "      <td>8.927668</td>\n",
       "      <td>9.042731</td>\n",
       "      <td>5.207523</td>\n",
       "      <td>5.208251</td>\n",
       "      <td>6.136766</td>\n",
       "      <td>6.137180</td>\n",
       "      <td>8.960248</td>\n",
       "      <td>17.327166</td>\n",
       "      <td>9.295775</td>\n",
       "      <td>...</td>\n",
       "      <td>6.778736</td>\n",
       "      <td>6.191403</td>\n",
       "      <td>6.401098</td>\n",
       "      <td>7.370045</td>\n",
       "      <td>5.475486</td>\n",
       "      <td>7.175504</td>\n",
       "      <td>11.350919</td>\n",
       "      <td>16.872046</td>\n",
       "      <td>283.675937</td>\n",
       "      <td>283.863767</td>\n",
       "    </tr>\n",
       "    <tr>\n",
       "      <th>std</th>\n",
       "      <td>2418.664611</td>\n",
       "      <td>5.477009</td>\n",
       "      <td>5.514939</td>\n",
       "      <td>2.129565</td>\n",
       "      <td>2.129354</td>\n",
       "      <td>1.843075</td>\n",
       "      <td>1.843049</td>\n",
       "      <td>5.491329</td>\n",
       "      <td>10.940735</td>\n",
       "      <td>5.650199</td>\n",
       "      <td>...</td>\n",
       "      <td>1.794293</td>\n",
       "      <td>1.951081</td>\n",
       "      <td>1.954327</td>\n",
       "      <td>1.550444</td>\n",
       "      <td>2.156750</td>\n",
       "      <td>1.740622</td>\n",
       "      <td>5.995903</td>\n",
       "      <td>4.358458</td>\n",
       "      <td>158.583367</td>\n",
       "      <td>158.584899</td>\n",
       "    </tr>\n",
       "    <tr>\n",
       "      <th>min</th>\n",
       "      <td>0.000000</td>\n",
       "      <td>1.000000</td>\n",
       "      <td>1.000000</td>\n",
       "      <td>0.000000</td>\n",
       "      <td>0.000000</td>\n",
       "      <td>0.000000</td>\n",
       "      <td>0.000000</td>\n",
       "      <td>1.000000</td>\n",
       "      <td>1.000000</td>\n",
       "      <td>1.000000</td>\n",
       "      <td>...</td>\n",
       "      <td>0.000000</td>\n",
       "      <td>0.000000</td>\n",
       "      <td>0.000000</td>\n",
       "      <td>0.000000</td>\n",
       "      <td>0.000000</td>\n",
       "      <td>0.000000</td>\n",
       "      <td>1.000000</td>\n",
       "      <td>5.000000</td>\n",
       "      <td>1.000000</td>\n",
       "      <td>1.000000</td>\n",
       "    </tr>\n",
       "    <tr>\n",
       "      <th>25%</th>\n",
       "      <td>2094.250000</td>\n",
       "      <td>4.000000</td>\n",
       "      <td>4.000000</td>\n",
       "      <td>4.000000</td>\n",
       "      <td>4.000000</td>\n",
       "      <td>5.000000</td>\n",
       "      <td>5.000000</td>\n",
       "      <td>4.000000</td>\n",
       "      <td>8.000000</td>\n",
       "      <td>4.000000</td>\n",
       "      <td>...</td>\n",
       "      <td>6.000000</td>\n",
       "      <td>5.000000</td>\n",
       "      <td>5.000000</td>\n",
       "      <td>6.000000</td>\n",
       "      <td>4.000000</td>\n",
       "      <td>6.000000</td>\n",
       "      <td>7.000000</td>\n",
       "      <td>14.000000</td>\n",
       "      <td>154.000000</td>\n",
       "      <td>154.000000</td>\n",
       "    </tr>\n",
       "    <tr>\n",
       "      <th>50%</th>\n",
       "      <td>4188.500000</td>\n",
       "      <td>8.000000</td>\n",
       "      <td>8.000000</td>\n",
       "      <td>5.000000</td>\n",
       "      <td>5.000000</td>\n",
       "      <td>6.000000</td>\n",
       "      <td>6.000000</td>\n",
       "      <td>8.000000</td>\n",
       "      <td>16.000000</td>\n",
       "      <td>9.000000</td>\n",
       "      <td>...</td>\n",
       "      <td>7.000000</td>\n",
       "      <td>6.000000</td>\n",
       "      <td>7.000000</td>\n",
       "      <td>7.000000</td>\n",
       "      <td>6.000000</td>\n",
       "      <td>7.000000</td>\n",
       "      <td>11.000000</td>\n",
       "      <td>18.000000</td>\n",
       "      <td>281.000000</td>\n",
       "      <td>281.000000</td>\n",
       "    </tr>\n",
       "    <tr>\n",
       "      <th>75%</th>\n",
       "      <td>6282.750000</td>\n",
       "      <td>13.000000</td>\n",
       "      <td>13.000000</td>\n",
       "      <td>7.000000</td>\n",
       "      <td>7.000000</td>\n",
       "      <td>7.000000</td>\n",
       "      <td>7.000000</td>\n",
       "      <td>13.000000</td>\n",
       "      <td>26.000000</td>\n",
       "      <td>14.000000</td>\n",
       "      <td>...</td>\n",
       "      <td>8.000000</td>\n",
       "      <td>8.000000</td>\n",
       "      <td>8.000000</td>\n",
       "      <td>8.000000</td>\n",
       "      <td>7.000000</td>\n",
       "      <td>8.000000</td>\n",
       "      <td>15.000000</td>\n",
       "      <td>20.000000</td>\n",
       "      <td>407.000000</td>\n",
       "      <td>408.000000</td>\n",
       "    </tr>\n",
       "    <tr>\n",
       "      <th>max</th>\n",
       "      <td>8377.000000</td>\n",
       "      <td>22.000000</td>\n",
       "      <td>22.000000</td>\n",
       "      <td>10.000000</td>\n",
       "      <td>10.000000</td>\n",
       "      <td>10.000000</td>\n",
       "      <td>10.000000</td>\n",
       "      <td>22.000000</td>\n",
       "      <td>44.000000</td>\n",
       "      <td>22.000000</td>\n",
       "      <td>...</td>\n",
       "      <td>10.000000</td>\n",
       "      <td>11.000000</td>\n",
       "      <td>11.000000</td>\n",
       "      <td>10.000000</td>\n",
       "      <td>10.000000</td>\n",
       "      <td>10.000000</td>\n",
       "      <td>21.000000</td>\n",
       "      <td>22.000000</td>\n",
       "      <td>552.000000</td>\n",
       "      <td>552.000000</td>\n",
       "    </tr>\n",
       "  </tbody>\n",
       "</table>\n",
       "<p>8 rows × 146 columns</p>\n",
       "</div>"
      ],
      "text/plain": [
       "                id      date nr  date position  date subject prob receive yes  \\\n",
       "count  8378.000000  8378.000000    8378.000000                    8069.000000   \n",
       "mean   4188.500000     8.927668       9.042731                       5.207523   \n",
       "std    2418.664611     5.477009       5.514939                       2.129565   \n",
       "min       0.000000     1.000000       1.000000                       0.000000   \n",
       "25%    2094.250000     4.000000       4.000000                       4.000000   \n",
       "50%    4188.500000     8.000000       8.000000                       5.000000   \n",
       "75%    6282.750000    13.000000      13.000000                       7.000000   \n",
       "max    8377.000000    22.000000      22.000000                      10.000000   \n",
       "\n",
       "       date partner prob receive yes  date subject rates partner  \\\n",
       "count                    8060.000000                 8138.000000   \n",
       "mean                        5.208251                    6.136766   \n",
       "std                         2.129354                    1.843075   \n",
       "min                         0.000000                    0.000000   \n",
       "25%                         4.000000                    5.000000   \n",
       "50%                         5.000000                    6.000000   \n",
       "75%                         7.000000                    7.000000   \n",
       "max                        10.000000                   10.000000   \n",
       "\n",
       "       date partner rates subject  subject local id  subject gender id  \\\n",
       "count                 8128.000000       8377.000000        8378.000000   \n",
       "mean                     6.137180          8.960248          17.327166   \n",
       "std                      1.843049          5.491329          10.940735   \n",
       "min                      0.000000          1.000000           1.000000   \n",
       "25%                      5.000000          4.000000           8.000000   \n",
       "50%                      6.000000          8.000000          16.000000   \n",
       "75%                      7.000000         13.000000          26.000000   \n",
       "max                     10.000000         22.000000          44.000000   \n",
       "\n",
       "       subject position_start        ...          \\\n",
       "count             6532.000000        ...           \n",
       "mean                 9.295775        ...           \n",
       "std                  5.650199        ...           \n",
       "min                  1.000000        ...           \n",
       "25%                  4.000000        ...           \n",
       "50%                  9.000000        ...           \n",
       "75%                 14.000000        ...           \n",
       "max                 22.000000        ...           \n",
       "\n",
       "       partner during date rating ambition  \\\n",
       "count                          7656.000000   \n",
       "mean                              6.778736   \n",
       "std                               1.794293   \n",
       "min                               0.000000   \n",
       "25%                               6.000000   \n",
       "50%                               7.000000   \n",
       "75%                               8.000000   \n",
       "max                              10.000000   \n",
       "\n",
       "       partner during date rating attractive  \\\n",
       "count                            8166.000000   \n",
       "mean                                6.191403   \n",
       "std                                 1.951081   \n",
       "min                                 0.000000   \n",
       "25%                                 5.000000   \n",
       "50%                                 6.000000   \n",
       "75%                                 8.000000   \n",
       "max                                11.000000   \n",
       "\n",
       "       partner during date rating funny  partner during date rating intellect  \\\n",
       "count                       8018.000000                           8072.000000   \n",
       "mean                           6.401098                              7.370045   \n",
       "std                            1.954327                              1.550444   \n",
       "min                            0.000000                              0.000000   \n",
       "25%                            5.000000                              6.000000   \n",
       "50%                            7.000000                              7.000000   \n",
       "75%                            8.000000                              8.000000   \n",
       "max                           11.000000                             10.000000   \n",
       "\n",
       "       partner during date rating shared interests  \\\n",
       "count                                  7302.000000   \n",
       "mean                                      5.475486   \n",
       "std                                       2.156750   \n",
       "min                                       0.000000   \n",
       "25%                                       4.000000   \n",
       "50%                                       6.000000   \n",
       "75%                                       7.000000   \n",
       "max                                      10.000000   \n",
       "\n",
       "       partner during date rating sincere      wave nr  wave n people  \\\n",
       "count                         8091.000000  8378.000000    8378.000000   \n",
       "mean                             7.175504    11.350919      16.872046   \n",
       "std                              1.740622     5.995903       4.358458   \n",
       "min                              0.000000     1.000000       5.000000   \n",
       "25%                              6.000000     7.000000      14.000000   \n",
       "50%                              7.000000    11.000000      18.000000   \n",
       "75%                              8.000000    15.000000      20.000000   \n",
       "max                             10.000000    21.000000      22.000000   \n",
       "\n",
       "       subject global id  partner global id  \n",
       "count        8378.000000        8368.000000  \n",
       "mean          283.675937         283.863767  \n",
       "std           158.583367         158.584899  \n",
       "min             1.000000           1.000000  \n",
       "25%           154.000000         154.000000  \n",
       "50%           281.000000         281.000000  \n",
       "75%           407.000000         408.000000  \n",
       "max           552.000000         552.000000  \n",
       "\n",
       "[8 rows x 146 columns]"
      ]
     },
     "execution_count": 12,
     "metadata": {},
     "output_type": "execute_result"
    }
   ],
   "source": [
    "data.describe()"
   ]
  },
  {
   "cell_type": "code",
   "execution_count": 13,
   "metadata": {},
   "outputs": [
    {
     "data": {
      "text/plain": [
       "True"
      ]
     },
     "execution_count": 13,
     "metadata": {},
     "output_type": "execute_result"
    }
   ],
   "source": [
    "isinstance(data.describe(), pd.DataFrame)"
   ]
  },
  {
   "cell_type": "code",
   "execution_count": 52,
   "metadata": {},
   "outputs": [],
   "source": [
    "data.describe().round(2).to_csv('meta_data.csv')"
   ]
  },
  {
   "cell_type": "code",
   "execution_count": 118,
   "metadata": {},
   "outputs": [],
   "source": [
    "data['date match binary'] = data['date match'].astype(int)"
   ]
  },
  {
   "cell_type": "code",
   "execution_count": 119,
   "metadata": {
    "collapsed": true
   },
   "outputs": [
    {
     "data": {
      "text/plain": [
       "0       0\n",
       "1       0\n",
       "2       1\n",
       "3       1\n",
       "4       1\n",
       "5       0\n",
       "6       0\n",
       "7       0\n",
       "8       1\n",
       "9       0\n",
       "10      0\n",
       "11      0\n",
       "12      0\n",
       "13      1\n",
       "14      0\n",
       "15      0\n",
       "16      0\n",
       "17      0\n",
       "18      1\n",
       "19      0\n",
       "20      0\n",
       "21      0\n",
       "22      0\n",
       "23      0\n",
       "24      0\n",
       "25      0\n",
       "26      0\n",
       "27      0\n",
       "28      0\n",
       "29      0\n",
       "       ..\n",
       "8348    0\n",
       "8349    0\n",
       "8350    0\n",
       "8351    0\n",
       "8352    0\n",
       "8353    0\n",
       "8354    0\n",
       "8355    0\n",
       "8356    1\n",
       "8357    1\n",
       "8358    0\n",
       "8359    0\n",
       "8360    1\n",
       "8361    0\n",
       "8362    1\n",
       "8363    1\n",
       "8364    0\n",
       "8365    0\n",
       "8366    0\n",
       "8367    0\n",
       "8368    0\n",
       "8369    0\n",
       "8370    0\n",
       "8371    1\n",
       "8372    0\n",
       "8373    0\n",
       "8374    0\n",
       "8375    0\n",
       "8376    0\n",
       "8377    0\n",
       "Name: date match binary, Length: 8378, dtype: int32"
      ]
     },
     "execution_count": 119,
     "metadata": {},
     "output_type": "execute_result"
    }
   ],
   "source": [
    "data['date match binary']"
   ]
  },
  {
   "cell_type": "code",
   "execution_count": 267,
   "metadata": {},
   "outputs": [],
   "source": [
    "data.select_dtypes(exclude=['int64','float64']).mode().to_csv('mode_data.csv')"
   ]
  },
  {
   "cell_type": "code",
   "execution_count": 276,
   "metadata": {},
   "outputs": [
    {
     "data": {
      "text/plain": [
       "Index(['id', 'date nr', 'date position', 'date same race',\n",
       "       'date subject met before', 'date partner met before',\n",
       "       'date subject prob receive yes', 'date partner prob receive yes',\n",
       "       'date subject rates partner', 'date partner rates subject',\n",
       "       ...\n",
       "       'partner funny d', 'partner intellect d', 'partner sincere d',\n",
       "       'partner preference ambition d', 'partner preference attractive d',\n",
       "       'partner preference funny d', 'partner preference intellect d',\n",
       "       'partner preference sincere d', 'partner preference shared interests d',\n",
       "       'date match binary'],\n",
       "      dtype='object', length=212)"
      ]
     },
     "execution_count": 276,
     "metadata": {},
     "output_type": "execute_result"
    }
   ],
   "source": [
    "data.columns"
   ]
  },
  {
   "cell_type": "code",
   "execution_count": 122,
   "metadata": {},
   "outputs": [],
   "source": [
    "numerical_data = data.select_dtypes(include=['int64','float64']).dropna()"
   ]
  },
  {
   "cell_type": "code",
   "execution_count": 123,
   "metadata": {},
   "outputs": [],
   "source": [
    "numerical_data['date match binary']=data['date match binary']"
   ]
  },
  {
   "cell_type": "code",
   "execution_count": 124,
   "metadata": {
    "scrolled": true
   },
   "outputs": [
    {
     "data": {
      "text/plain": [
       "Index(['id', 'date nr', 'date position', 'date subject prob receive yes',\n",
       "       'date partner prob receive yes', 'date subject rates partner',\n",
       "       'date partner rates subject', 'subject local id', 'subject gender id',\n",
       "       'subject position_start',\n",
       "       ...\n",
       "       'partner during date rating attractive',\n",
       "       'partner during date rating funny',\n",
       "       'partner during date rating intellect',\n",
       "       'partner during date rating shared interests',\n",
       "       'partner during date rating sincere', 'wave nr', 'wave n people',\n",
       "       'subject global id', 'partner global id', 'date match binary'],\n",
       "      dtype='object', length=147)"
      ]
     },
     "execution_count": 124,
     "metadata": {},
     "output_type": "execute_result"
    }
   ],
   "source": [
    "numerical_data.columns"
   ]
  },
  {
   "cell_type": "code",
   "execution_count": 125,
   "metadata": {},
   "outputs": [
    {
     "data": {
      "image/png": "[encoded data removed]",
      "text/plain": [
       "<Figure size 288x288 with 1 Axes>"
      ]
     },
     "metadata": {
      "needs_background": "light"
     },
     "output_type": "display_data"
    }
   ],
   "source": [
    "plt.matshow(numerical_data.corr())\n",
    "plt.rcParams['figure.figsize'] = [1,1]"
   ]
  },
  {
   "cell_type": "code",
   "execution_count": 126,
   "metadata": {},
   "outputs": [
    {
     "data": {
      "text/plain": [
       "147"
      ]
     },
     "execution_count": 126,
     "metadata": {},
     "output_type": "execute_result"
    }
   ],
   "source": [
    "len(list(numerical_data))"
   ]
  },
  {
   "cell_type": "code",
   "execution_count": 127,
   "metadata": {},
   "outputs": [
    {
     "data": {
      "text/plain": [
       "pandas.io.formats.style.Styler"
      ]
     },
     "execution_count": 127,
     "metadata": {},
     "output_type": "execute_result"
    }
   ],
   "source": [
    "corr=numerical_data.corr()\n",
    "corr.style.background_gradient().set_precision(2)\n",
    "isinstance(corr.style.background_gradient().set_precision(2), pd.DataFrame)\n",
    "#corr_df = pd.DataFrame(corr.style.background_gradient().set_precision(2))\n",
    "isinstance(corr.style.background_gradient().set_precision(2), list)\n",
    "type(corr.style.background_gradient().set_precision(2))"
   ]
  },
  {
   "cell_type": "code",
   "execution_count": 128,
   "metadata": {},
   "outputs": [
    {
     "name": "stderr",
     "output_type": "stream",
     "text": [
      "C:\\Users\\taiseii\\Anaconda3\\lib\\site-packages\\matplotlib\\colors.py:504: RuntimeWarning: invalid value encountered in less\n",
      "  xa[xa < 0] = -1\n"
     ]
    }
   ],
   "source": [
    "html_corr_table = corr.style.background_gradient().set_precision(2).render()"
   ]
  },
  {
   "cell_type": "code",
   "execution_count": 129,
   "metadata": {},
   "outputs": [],
   "source": [
    "html_corr_table_str = str(html_corr_table)"
   ]
  },
  {
   "cell_type": "code",
   "execution_count": 130,
   "metadata": {},
   "outputs": [
    {
     "data": {
      "text/plain": [
       "True"
      ]
     },
     "execution_count": 130,
     "metadata": {},
     "output_type": "execute_result"
    }
   ],
   "source": [
    "isinstance(html_corr_table_str,str) "
   ]
  },
  {
   "cell_type": "code",
   "execution_count": 132,
   "metadata": {},
   "outputs": [],
   "source": [
    "txt = open(\"corr_mx.txt\", \"w\")\n",
    "txt.write(\"%s\" % html_corr_table_str)\n",
    "txt.close()"
   ]
  },
  {
   "cell_type": "code",
   "execution_count": 84,
   "metadata": {},
   "outputs": [
    {
     "name": "stdout",
     "output_type": "stream",
     "text": [
      "Requirement already satisfied: imgkit in c:\\users\\taiseii\\anaconda3\\lib\\site-packages (1.0.1)\n"
     ]
    },
    {
     "name": "stderr",
     "output_type": "stream",
     "text": [
      "twisted 18.7.0 requires PyHamcrest>=1.9.0, which is not installed.\n",
      "You are using pip version 10.0.1, however version 18.1 is available.\n",
      "You should consider upgrading via the 'python -m pip install --upgrade pip' command.\n"
     ]
    }
   ],
   "source": [
    "import sys\n",
    "!{sys.executable} -m pip install imgkit"
   ]
  },
  {
   "cell_type": "code",
   "execution_count": 32,
   "metadata": {
    "scrolled": true
   },
   "outputs": [
    {
     "name": "stdout",
     "output_type": "stream",
     "text": [
      "Requirement already satisfied: sklearn in c:\\users\\taiseii\\anaconda3\\lib\\site-packages (0.0)\n",
      "Requirement already satisfied: scikit-learn in c:\\users\\taiseii\\anaconda3\\lib\\site-packages (from sklearn) (0.20.1)\n",
      "Requirement already satisfied: numpy>=1.8.2 in c:\\users\\taiseii\\anaconda3\\lib\\site-packages (from scikit-learn->sklearn) (1.15.4)\n",
      "Requirement already satisfied: scipy>=0.13.3 in c:\\users\\taiseii\\anaconda3\\lib\\site-packages (from scikit-learn->sklearn) (1.1.0)\n"
     ]
    }
   ],
   "source": [
    "#nooooooooooooooooooooooo\n",
    "#just install some more stuff here\n",
    "import sys\n",
    "!{sys.executable} -m pip install sklearn"
   ]
  },
  {
   "cell_type": "markdown",
   "metadata": {},
   "source": [
    "Interesting findings: correlation between \"music interest\" and \"importance race\" is 0.88\n",
    "May b we can find more things?\n",
    "html_corr_table is here to convert the massive table to img"
   ]
  },
  {
   "cell_type": "markdown",
   "metadata": {},
   "source": [
    "<h1>Q2</h1>"
   ]
  },
  {
   "cell_type": "markdown",
   "metadata": {},
   "source": [
    "<h1>a.</h1>"
   ]
  },
  {
   "cell_type": "code",
   "execution_count": 4,
   "metadata": {},
   "outputs": [],
   "source": [
    "from sklearn.model_selection import train_test_split"
   ]
  },
  {
   "cell_type": "code",
   "execution_count": 5,
   "metadata": {},
   "outputs": [],
   "source": [
    "fields = data.columns"
   ]
  },
  {
   "cell_type": "code",
   "execution_count": 6,
   "metadata": {},
   "outputs": [],
   "source": [
    "train_data, test_data = train_test_split(data, test_size=0.25, random_state=6)"
   ]
  },
  {
   "cell_type": "code",
   "execution_count": 7,
   "metadata": {},
   "outputs": [
    {
     "data": {
      "text/plain": [
       "551"
      ]
     },
     "execution_count": 7,
     "metadata": {},
     "output_type": "execute_result"
    }
   ],
   "source": [
    "sum(data['date nr']==1)"
   ]
  },
  {
   "cell_type": "code",
   "execution_count": 8,
   "metadata": {},
   "outputs": [
    {
     "data": {
      "text/plain": [
       "8378"
      ]
     },
     "execution_count": 8,
     "metadata": {},
     "output_type": "execute_result"
    }
   ],
   "source": [
    "len(data)"
   ]
  },
  {
   "cell_type": "code",
   "execution_count": 9,
   "metadata": {},
   "outputs": [
    {
     "data": {
      "text/plain": [
       "array(['[1/4: -32.0 - -3.0 (-6.0)]', '[2/4: -2.0 - 0.0 (-1.0)]',\n",
       "       '[2/4: -2.0 - 0.0 (-2.0)]', '[1/4: -32.0 - -3.0 (-3.0)]',\n",
       "       '[1/4: -32.0 - -3.0 (-4.0)]', '[1/4: -32.0 - -3.0 (-9.0)]',\n",
       "       '[1/4: -32.0 - -3.0 (-7.0)]', '[3/4: 1.0 - 3.0 (2.0)]',\n",
       "       '[3/4: 1.0 - 3.0 (1.0)]', '[2/4: -2.0 - 0.0 (0.0)]',\n",
       "       '[3/4: 1.0 - 3.0 (3.0)]', '[1/4: -32.0 - -3.0 (-5.0)]',\n",
       "       '[1/4: -32.0 - -3.0 (-8.0)]', '[4/4: 4.0 - 32.0 (4.0)]',\n",
       "       '[4/4: 4.0 - 32.0 (6.0)]', '[4/4: 4.0 - 32.0 (5.0)]',\n",
       "       '[4/4: 4.0 - 32.0 (9.0)]', '[4/4: 4.0 - 32.0 (7.0)]',\n",
       "       '[4/4: 4.0 - 32.0 (8.0)]', '[1/4: -32.0 - 32.0]',\n",
       "       '[4/4: 4.0 - 32.0 (12.0)]', '[4/4: 4.0 - 32.0 (13.0)]',\n",
       "       '[4/4: 4.0 - 32.0 (10.0)]', '[1/4: -32.0 - -3.0 (-17.0)]',\n",
       "       '[1/4: -32.0 - -3.0 (-10.0)]', '[1/4: -32.0 - -3.0 (-16.0)]',\n",
       "       '[1/4: -32.0 - -3.0 (-13.0)]', '[1/4: -32.0 - -3.0 (-12.0)]',\n",
       "       '[1/4: -32.0 - -3.0 (-11.0)]', '[1/4: -32.0 - -3.0 (-14.0)]',\n",
       "       '[4/4: 4.0 - 32.0 (14.0)]', '[4/4: 4.0 - 32.0 (11.0)]',\n",
       "       '[4/4: 4.0 - 32.0 (17.0)]', '[4/4: 4.0 - 32.0 (16.0)]',\n",
       "       '[1/4: -32.0 - -3.0 (-18.0)]', '[1/4: -32.0 - -3.0 (-15.0)]',\n",
       "       '[1/4: -32.0 - -3.0 (-19.0)]', '[1/4: -32.0 - -3.0 (-20.0)]',\n",
       "       '[4/4: 4.0 - 32.0 (18.0)]', '[4/4: 4.0 - 32.0 (15.0)]',\n",
       "       '[4/4: 4.0 - 32.0 (19.0)]', '[4/4: 4.0 - 32.0 (20.0)]',\n",
       "       '[4/4: 4.0 - 32.0 (22.0)]', '[4/4: 4.0 - 32.0 (28.0)]',\n",
       "       '[4/4: 4.0 - 32.0 (32.0)]', '[1/4: -32.0 - -3.0 (-22.0)]',\n",
       "       '[1/4: -32.0 - -3.0 (-28.0)]', '[1/4: -32.0 - -3.0 (-32.0)]'],\n",
       "      dtype=object)"
      ]
     },
     "execution_count": 9,
     "metadata": {},
     "output_type": "execute_result"
    }
   ],
   "source": [
    "data['date age difference d'].unique()"
   ]
  },
  {
   "cell_type": "code",
   "execution_count": 10,
   "metadata": {},
   "outputs": [
    {
     "data": {
      "text/plain": [
       "48"
      ]
     },
     "execution_count": 10,
     "metadata": {},
     "output_type": "execute_result"
    }
   ],
   "source": [
    "len(data['date age difference d'].unique())"
   ]
  },
  {
   "cell_type": "code",
   "execution_count": 11,
   "metadata": {},
   "outputs": [
    {
     "data": {
      "text/plain": [
       "4906"
      ]
     },
     "execution_count": 11,
     "metadata": {},
     "output_type": "execute_result"
    }
   ],
   "source": [
    "len(data['subject guesses_how_perceived_by_others attractive'].dropna())"
   ]
  },
  {
   "cell_type": "code",
   "execution_count": 12,
   "metadata": {},
   "outputs": [
    {
     "data": {
      "text/plain": [
       "668"
      ]
     },
     "execution_count": 12,
     "metadata": {},
     "output_type": "execute_result"
    }
   ],
   "source": [
    "len(data['subject month after went on date n_times'].dropna())"
   ]
  },
  {
   "cell_type": "code",
   "execution_count": 13,
   "metadata": {},
   "outputs": [],
   "source": [
    "from sklearn.ensemble import RandomForestClassifier"
   ]
  },
  {
   "cell_type": "code",
   "execution_count": 14,
   "metadata": {
    "collapsed": true
   },
   "outputs": [
    {
     "data": {
      "text/plain": [
       "6407    False\n",
       "3966    False\n",
       "5060     True\n",
       "495      True\n",
       "6100     True\n",
       "608     False\n",
       "7666    False\n",
       "2314    False\n",
       "5058    False\n",
       "3251    False\n",
       "785     False\n",
       "686     False\n",
       "4086    False\n",
       "5604    False\n",
       "5159    False\n",
       "398     False\n",
       "3664    False\n",
       "3346    False\n",
       "1641    False\n",
       "4131    False\n",
       "3893    False\n",
       "908     False\n",
       "767     False\n",
       "5628    False\n",
       "561     False\n",
       "6446    False\n",
       "5312    False\n",
       "5915    False\n",
       "2746    False\n",
       "388     False\n",
       "        ...  \n",
       "2826    False\n",
       "7287    False\n",
       "3610    False\n",
       "7474    False\n",
       "8069    False\n",
       "7452    False\n",
       "5756    False\n",
       "7765    False\n",
       "6271     True\n",
       "3266     True\n",
       "7230     True\n",
       "2692    False\n",
       "5553    False\n",
       "5317    False\n",
       "5035    False\n",
       "2390     True\n",
       "5757    False\n",
       "7045    False\n",
       "5083     True\n",
       "2252     True\n",
       "1288    False\n",
       "1953    False\n",
       "2372     True\n",
       "2543    False\n",
       "4122    False\n",
       "7243    False\n",
       "5401    False\n",
       "6462     True\n",
       "4714    False\n",
       "2761    False\n",
       "Name: date match, Length: 6283, dtype: category\n",
       "Categories (2, object): [False, True]"
      ]
     },
     "execution_count": 14,
     "metadata": {},
     "output_type": "execute_result"
    }
   ],
   "source": [
    "train_data['date match'].astype('category')"
   ]
  },
  {
   "cell_type": "markdown",
   "metadata": {},
   "source": [
    "dependent = date match\n",
    "independent1 = subject satisfied with date\n",
    "independent2 = subject guess how perceived by other attractive\n",
    "independent3 = subject during date preference attractive\n",
    "independent4 = importance of race\n",
    "independent5 = subject interest music\n",
    "independent6 = subject interest movie"
   ]
  },
  {
   "cell_type": "markdown",
   "metadata": {},
   "source": [
    "Number of instances are not the same TT"
   ]
  },
  {
   "cell_type": "code",
   "execution_count": 15,
   "metadata": {},
   "outputs": [],
   "source": [
    "data2 = pd.DataFrame()\n",
    "data2['satisfied'] = data['subject satisfied_with dates']\n",
    "#data2['guesses_how_perceived_by_others attractive'] = data['subject guesses_how_perceived_by_others attractive']\n",
    "#data2['subject during date preference attractive'] = data['subject during date preference attractive']\n",
    "data2['subject importance of race'] = data['subject importance of race']\n",
    "data2['subject interest music'] = data['subject interest music']\n",
    "data2['subject interest movies'] = data['subject interest movies']\n",
    "data2['date match'] = data['date match']"
   ]
  },
  {
   "cell_type": "code",
   "execution_count": 16,
   "metadata": {},
   "outputs": [
    {
     "data": {
      "text/plain": [
       "7415"
      ]
     },
     "execution_count": 16,
     "metadata": {},
     "output_type": "execute_result"
    }
   ],
   "source": [
    "len(data2.dropna())"
   ]
  },
  {
   "cell_type": "code",
   "execution_count": 20,
   "metadata": {},
   "outputs": [],
   "source": [
    "#drop na is incorporated here\n",
    "data2_train, data2_test = train_test_split(data2.dropna(),\n",
    "                                           test_size=0.25, random_state=0)"
   ]
  },
  {
   "cell_type": "code",
   "execution_count": 21,
   "metadata": {},
   "outputs": [],
   "source": [
    "X_train = np.asarray(list(zip(data2_train['satisfied'],\n",
    "                       # data2_train['guesses_how_perceived_by_others attractive'],\n",
    "                      # data2_train['subject during date preference attractive'],\n",
    "                        data2_train['subject importance of race'],\n",
    "                        data2_train['subject interest music'],\n",
    "                        data2_train['subject interest movies']\n",
    "                       )))\n",
    "Y_train = np.asarray(list(zip(data2_train['date match'])))"
   ]
  },
  {
   "cell_type": "code",
   "execution_count": 22,
   "metadata": {},
   "outputs": [
    {
     "name": "stdout",
     "output_type": "stream",
     "text": [
      "5615\n",
      "3694\n",
      "3087\n",
      "6228\n",
      "6228\n",
      "6228\n",
      "6283\n"
     ]
    }
   ],
   "source": [
    "print(len(train_data['subject satisfied_with dates'].dropna()))\n",
    "print(len(train_data['subject guesses_how_perceived_by_others attractive'].dropna()))\n",
    "print(len(train_data['subject during date preference attractive'].dropna()))\n",
    "print(len(train_data['subject importance of race'].dropna()))\n",
    "print(len(train_data['subject interest music'].dropna()))\n",
    "print(len(train_data['subject interest movies'].dropna()))\n",
    "print(len(train_data['date match'].dropna()))"
   ]
  },
  {
   "cell_type": "code",
   "execution_count": 23,
   "metadata": {},
   "outputs": [],
   "source": [
    "X_test = np.asarray(list(zip(data2_test['satisfied'],\n",
    "                      # data2_test['guesses_how_perceived_by_others attractive'],\n",
    "                      # data2_test['subject during date preference attractive'],\n",
    "                        data2_test['subject importance of race'],\n",
    "                        data2_test['subject interest music'],\n",
    "                        data2_test['subject interest movies']\n",
    "                       )))\n",
    "Y_test = np.asarray(list(zip(data2_test['date match'])))"
   ]
  },
  {
   "cell_type": "markdown",
   "metadata": {},
   "source": [
    "<h2>model1=random forest</h2>"
   ]
  },
  {
   "cell_type": "code",
   "execution_count": 24,
   "metadata": {
    "scrolled": true
   },
   "outputs": [
    {
     "name": "stderr",
     "output_type": "stream",
     "text": [
      "C:\\Users\\taiseii\\Anaconda3\\lib\\site-packages\\ipykernel_launcher.py:2: DataConversionWarning: A column-vector y was passed when a 1d array was expected. Please change the shape of y to (n_samples,), for example using ravel().\n",
      "  \n"
     ]
    },
    {
     "data": {
      "text/plain": [
       "RandomForestClassifier(bootstrap=True, class_weight=None, criterion='gini',\n",
       "            max_depth=None, max_features='auto', max_leaf_nodes=None,\n",
       "            min_impurity_decrease=0.0, min_impurity_split=None,\n",
       "            min_samples_leaf=1, min_samples_split=2,\n",
       "            min_weight_fraction_leaf=0.0, n_estimators=1000, n_jobs=None,\n",
       "            oob_score=False, random_state=1, verbose=0, warm_start=False)"
      ]
     },
     "execution_count": 24,
     "metadata": {},
     "output_type": "execute_result"
    }
   ],
   "source": [
    "model1 = RandomForestClassifier(n_estimators=1000, random_state=1 )\n",
    "model1.fit(X_train, Y_train)"
   ]
  },
  {
   "cell_type": "code",
   "execution_count": 25,
   "metadata": {},
   "outputs": [
    {
     "data": {
      "text/plain": [
       "array([0.2768974 , 0.25908562, 0.21540809, 0.24860889])"
      ]
     },
     "execution_count": 25,
     "metadata": {},
     "output_type": "execute_result"
    }
   ],
   "source": [
    "model1.feature_importances_"
   ]
  },
  {
   "cell_type": "code",
   "execution_count": 26,
   "metadata": {},
   "outputs": [
    {
     "data": {
      "text/plain": [
       "1854"
      ]
     },
     "execution_count": 26,
     "metadata": {},
     "output_type": "execute_result"
    }
   ],
   "source": [
    "len(model1.predict(X_test))"
   ]
  },
  {
   "cell_type": "code",
   "execution_count": 27,
   "metadata": {},
   "outputs": [
    {
     "data": {
      "text/plain": [
       "6998"
      ]
     },
     "execution_count": 27,
     "metadata": {},
     "output_type": "execute_result"
    }
   ],
   "source": [
    "len(data['date match'])-sum(data['date match'])"
   ]
  },
  {
   "cell_type": "code",
   "execution_count": 28,
   "metadata": {},
   "outputs": [
    {
     "data": {
      "text/plain": [
       "1380"
      ]
     },
     "execution_count": 28,
     "metadata": {},
     "output_type": "execute_result"
    }
   ],
   "source": [
    "sum(data['date match'])"
   ]
  },
  {
   "cell_type": "code",
   "execution_count": 29,
   "metadata": {},
   "outputs": [],
   "source": [
    "confusion_model1 = pd.crosstab(data2_test['date match'], model1.predict(X_test),\n",
    "                               rownames=['real match'], colnames=['match hat'])"
   ]
  },
  {
   "cell_type": "code",
   "execution_count": 30,
   "metadata": {},
   "outputs": [
    {
     "data": {
      "text/html": [
       "<div>\n",
       "<style scoped>\n",
       "    .dataframe tbody tr th:only-of-type {\n",
       "        vertical-align: middle;\n",
       "    }\n",
       "\n",
       "    .dataframe tbody tr th {\n",
       "        vertical-align: top;\n",
       "    }\n",
       "\n",
       "    .dataframe thead th {\n",
       "        text-align: right;\n",
       "    }\n",
       "</style>\n",
       "<table border=\"1\" class=\"dataframe\">\n",
       "  <thead>\n",
       "    <tr style=\"text-align: right;\">\n",
       "      <th>match hat</th>\n",
       "      <th>False</th>\n",
       "      <th>True</th>\n",
       "    </tr>\n",
       "    <tr>\n",
       "      <th>real match</th>\n",
       "      <th></th>\n",
       "      <th></th>\n",
       "    </tr>\n",
       "  </thead>\n",
       "  <tbody>\n",
       "    <tr>\n",
       "      <th>False</th>\n",
       "      <td>1505</td>\n",
       "      <td>36</td>\n",
       "    </tr>\n",
       "    <tr>\n",
       "      <th>True</th>\n",
       "      <td>290</td>\n",
       "      <td>23</td>\n",
       "    </tr>\n",
       "  </tbody>\n",
       "</table>\n",
       "</div>"
      ],
      "text/plain": [
       "match hat   False  True \n",
       "real match              \n",
       "False        1505     36\n",
       "True          290     23"
      ]
     },
     "execution_count": 30,
     "metadata": {},
     "output_type": "execute_result"
    }
   ],
   "source": [
    "confusion_model1"
   ]
  },
  {
   "cell_type": "code",
   "execution_count": 31,
   "metadata": {},
   "outputs": [],
   "source": [
    "confusion_model1_train = pd.crosstab(data2_train['date match'], \n",
    "                                     model1.predict(X_train),\n",
    "                                     rownames=['real match'],\n",
    "                                     colnames=['match hat'])"
   ]
  },
  {
   "cell_type": "code",
   "execution_count": 32,
   "metadata": {},
   "outputs": [
    {
     "data": {
      "text/html": [
       "<div>\n",
       "<style scoped>\n",
       "    .dataframe tbody tr th:only-of-type {\n",
       "        vertical-align: middle;\n",
       "    }\n",
       "\n",
       "    .dataframe tbody tr th {\n",
       "        vertical-align: top;\n",
       "    }\n",
       "\n",
       "    .dataframe thead th {\n",
       "        text-align: right;\n",
       "    }\n",
       "</style>\n",
       "<table border=\"1\" class=\"dataframe\">\n",
       "  <thead>\n",
       "    <tr style=\"text-align: right;\">\n",
       "      <th>match hat</th>\n",
       "      <th>False</th>\n",
       "      <th>True</th>\n",
       "    </tr>\n",
       "    <tr>\n",
       "      <th>real match</th>\n",
       "      <th></th>\n",
       "      <th></th>\n",
       "    </tr>\n",
       "  </thead>\n",
       "  <tbody>\n",
       "    <tr>\n",
       "      <th>False</th>\n",
       "      <td>4575</td>\n",
       "      <td>64</td>\n",
       "    </tr>\n",
       "    <tr>\n",
       "      <th>True</th>\n",
       "      <td>824</td>\n",
       "      <td>98</td>\n",
       "    </tr>\n",
       "  </tbody>\n",
       "</table>\n",
       "</div>"
      ],
      "text/plain": [
       "match hat   False  True \n",
       "real match              \n",
       "False        4575     64\n",
       "True          824     98"
      ]
     },
     "execution_count": 32,
     "metadata": {},
     "output_type": "execute_result"
    }
   ],
   "source": [
    "confusion_model1_train"
   ]
  },
  {
   "cell_type": "code",
   "execution_count": 33,
   "metadata": {},
   "outputs": [
    {
     "data": {
      "text/plain": [
       "0.8403164898399569"
      ]
     },
     "execution_count": 33,
     "metadata": {},
     "output_type": "execute_result"
    }
   ],
   "source": [
    "#accuracy of model1 on train\n",
    "(confusion_model1_train[0][0]+confusion_model1_train[1][1])/len(data2_train)"
   ]
  },
  {
   "cell_type": "code",
   "execution_count": 34,
   "metadata": {},
   "outputs": [
    {
     "data": {
      "text/plain": [
       "0.8241639697950378"
      ]
     },
     "execution_count": 34,
     "metadata": {},
     "output_type": "execute_result"
    }
   ],
   "source": [
    "#accuracy of model1 on test\n",
    "(confusion_model1[0][0]+confusion_model1[1][1])/len(data2_test)"
   ]
  },
  {
   "cell_type": "markdown",
   "metadata": {},
   "source": [
    "Similarity in these two scores suggest there is less likelyhood of model being overfitted"
   ]
  },
  {
   "cell_type": "code",
   "execution_count": 35,
   "metadata": {},
   "outputs": [
    {
     "data": {
      "text/plain": [
       "0.17583603020496225"
      ]
     },
     "execution_count": 35,
     "metadata": {},
     "output_type": "execute_result"
    }
   ],
   "source": [
    "#misclassification rate\n",
    "(confusion_model1[0][1]+confusion_model1[1][0])/len(data2_test)"
   ]
  },
  {
   "cell_type": "code",
   "execution_count": 36,
   "metadata": {},
   "outputs": [
    {
     "data": {
      "text/plain": [
       "0.07348242811501597"
      ]
     },
     "execution_count": 36,
     "metadata": {},
     "output_type": "execute_result"
    }
   ],
   "source": [
    "#true positive rate\n",
    "confusion_model1[1][1]/(confusion_model1[0][1]+confusion_model1[1][1])"
   ]
  },
  {
   "cell_type": "code",
   "execution_count": 37,
   "metadata": {},
   "outputs": [
    {
     "data": {
      "text/plain": [
       "0.9766385463984426"
      ]
     },
     "execution_count": 37,
     "metadata": {},
     "output_type": "execute_result"
    }
   ],
   "source": [
    "#true negative rate\n",
    "confusion_model1[0][0]/(confusion_model1[0][0]+confusion_model1[1][0])"
   ]
  },
  {
   "cell_type": "markdown",
   "metadata": {},
   "source": [
    "<h2>model2=svm</h2>"
   ]
  },
  {
   "cell_type": "code",
   "execution_count": 38,
   "metadata": {},
   "outputs": [
    {
     "name": "stderr",
     "output_type": "stream",
     "text": [
      "C:\\Users\\taiseii\\Anaconda3\\lib\\site-packages\\sklearn\\utils\\validation.py:761: DataConversionWarning: A column-vector y was passed when a 1d array was expected. Please change the shape of y to (n_samples, ), for example using ravel().\n",
      "  y = column_or_1d(y, warn=True)\n"
     ]
    },
    {
     "data": {
      "text/plain": [
       "SVC(C=1.0, cache_size=200, class_weight=None, coef0=0.0,\n",
       "  decision_function_shape='ovr', degree=3, gamma='auto', kernel='rbf',\n",
       "  max_iter=-1, probability=False, random_state=None, shrinking=True,\n",
       "  tol=0.001, verbose=False)"
      ]
     },
     "execution_count": 38,
     "metadata": {},
     "output_type": "execute_result"
    }
   ],
   "source": [
    "from sklearn.svm import SVC\n",
    "model2=SVC(gamma='auto')\n",
    "model2.fit(X_train,Y_train)"
   ]
  },
  {
   "cell_type": "code",
   "execution_count": 39,
   "metadata": {},
   "outputs": [],
   "source": [
    "confusion_model2 = pd.crosstab(data2_test['date match'],\n",
    "                                model2.predict(X_test),\n",
    "                               rownames=['real match'], \n",
    "                                colnames=['match hat'])"
   ]
  },
  {
   "cell_type": "code",
   "execution_count": 40,
   "metadata": {},
   "outputs": [],
   "source": [
    "confusion_model2_train = pd.crosstab(data2_train['date match'],\n",
    "                                model2.predict(X_train),\n",
    "                               rownames=['real match'], \n",
    "                                colnames=['match hat'])"
   ]
  },
  {
   "cell_type": "code",
   "execution_count": 41,
   "metadata": {},
   "outputs": [
    {
     "data": {
      "text/plain": [
       "0.8352814242042798"
      ]
     },
     "execution_count": 41,
     "metadata": {},
     "output_type": "execute_result"
    }
   ],
   "source": [
    "#accuracy of model2 on train\n",
    "(confusion_model2_train[0][0]+confusion_model2_train[1][1])/len(data2_train)"
   ]
  },
  {
   "cell_type": "code",
   "execution_count": 42,
   "metadata": {},
   "outputs": [
    {
     "data": {
      "text/plain": [
       "0.831175836030205"
      ]
     },
     "execution_count": 42,
     "metadata": {},
     "output_type": "execute_result"
    }
   ],
   "source": [
    "#accuracy of model2 on test\n",
    "(confusion_model2[0][0]+confusion_model2[1][1])/len(data2_test)"
   ]
  },
  {
   "cell_type": "code",
   "execution_count": 43,
   "metadata": {},
   "outputs": [
    {
     "data": {
      "text/plain": [
       "0.009584664536741214"
      ]
     },
     "execution_count": 43,
     "metadata": {},
     "output_type": "execute_result"
    }
   ],
   "source": [
    "#true positive rate\n",
    "confusion_model2[1][1]/(confusion_model2[0][1]+confusion_model2[1][1])"
   ]
  },
  {
   "cell_type": "code",
   "execution_count": 44,
   "metadata": {},
   "outputs": [
    {
     "data": {
      "text/plain": [
       "0.9980532121998702"
      ]
     },
     "execution_count": 44,
     "metadata": {},
     "output_type": "execute_result"
    }
   ],
   "source": [
    "#true negative rate\n",
    "confusion_model2[0][0]/(confusion_model2[0][0]+confusion_model2[1][0])"
   ]
  },
  {
   "cell_type": "markdown",
   "metadata": {},
   "source": [
    "<h2>model3=ada boost(DecisionTree)</h2>"
   ]
  },
  {
   "cell_type": "code",
   "execution_count": 45,
   "metadata": {},
   "outputs": [
    {
     "name": "stderr",
     "output_type": "stream",
     "text": [
      "C:\\Users\\taiseii\\Anaconda3\\lib\\site-packages\\sklearn\\utils\\validation.py:761: DataConversionWarning: A column-vector y was passed when a 1d array was expected. Please change the shape of y to (n_samples, ), for example using ravel().\n",
      "  y = column_or_1d(y, warn=True)\n"
     ]
    },
    {
     "data": {
      "text/plain": [
       "AdaBoostClassifier(algorithm='SAMME.R',\n",
       "          base_estimator=DecisionTreeClassifier(class_weight=None, criterion='gini', max_depth=10,\n",
       "            max_features=None, max_leaf_nodes=None,\n",
       "            min_impurity_decrease=0.0, min_impurity_split=None,\n",
       "            min_samples_leaf=1, min_samples_split=2,\n",
       "            min_weight_fraction_leaf=0.0, presort=False, random_state=None,\n",
       "            splitter='best'),\n",
       "          learning_rate=1.0, n_estimators=200, random_state=None)"
      ]
     },
     "execution_count": 45,
     "metadata": {},
     "output_type": "execute_result"
    }
   ],
   "source": [
    "from sklearn.ensemble import AdaBoostClassifier\n",
    "from sklearn.tree import DecisionTreeClassifier\n",
    "model3 = AdaBoostClassifier(DecisionTreeClassifier(max_depth=10),\n",
    "                           algorithm=\"SAMME.R\",\n",
    "                            n_estimators=200\n",
    "                           )\n",
    "model3.fit(X_train,Y_train)"
   ]
  },
  {
   "cell_type": "code",
   "execution_count": 46,
   "metadata": {},
   "outputs": [],
   "source": [
    "confusion_model3 = pd.crosstab(data2_test['date match'],\n",
    "                                model3.predict(X_test),\n",
    "                               rownames=['real match'], \n",
    "                                colnames=['match hat'])"
   ]
  },
  {
   "cell_type": "code",
   "execution_count": 47,
   "metadata": {},
   "outputs": [
    {
     "data": {
      "text/html": [
       "<div>\n",
       "<style scoped>\n",
       "    .dataframe tbody tr th:only-of-type {\n",
       "        vertical-align: middle;\n",
       "    }\n",
       "\n",
       "    .dataframe tbody tr th {\n",
       "        vertical-align: top;\n",
       "    }\n",
       "\n",
       "    .dataframe thead th {\n",
       "        text-align: right;\n",
       "    }\n",
       "</style>\n",
       "<table border=\"1\" class=\"dataframe\">\n",
       "  <thead>\n",
       "    <tr style=\"text-align: right;\">\n",
       "      <th>match hat</th>\n",
       "      <th>False</th>\n",
       "      <th>True</th>\n",
       "    </tr>\n",
       "    <tr>\n",
       "      <th>real match</th>\n",
       "      <th></th>\n",
       "      <th></th>\n",
       "    </tr>\n",
       "  </thead>\n",
       "  <tbody>\n",
       "    <tr>\n",
       "      <th>False</th>\n",
       "      <td>1513</td>\n",
       "      <td>28</td>\n",
       "    </tr>\n",
       "    <tr>\n",
       "      <th>True</th>\n",
       "      <td>296</td>\n",
       "      <td>17</td>\n",
       "    </tr>\n",
       "  </tbody>\n",
       "</table>\n",
       "</div>"
      ],
      "text/plain": [
       "match hat   False  True \n",
       "real match              \n",
       "False        1513     28\n",
       "True          296     17"
      ]
     },
     "execution_count": 47,
     "metadata": {},
     "output_type": "execute_result"
    }
   ],
   "source": [
    "confusion_model3"
   ]
  },
  {
   "cell_type": "code",
   "execution_count": 48,
   "metadata": {},
   "outputs": [],
   "source": [
    "confusion_model3_train = pd.crosstab(data2_train['date match'],\n",
    "                                model3.predict(X_train),\n",
    "                               rownames=['real match'], \n",
    "                                colnames=['match hat'])"
   ]
  },
  {
   "cell_type": "code",
   "execution_count": 49,
   "metadata": {},
   "outputs": [
    {
     "data": {
      "text/html": [
       "<div>\n",
       "<style scoped>\n",
       "    .dataframe tbody tr th:only-of-type {\n",
       "        vertical-align: middle;\n",
       "    }\n",
       "\n",
       "    .dataframe tbody tr th {\n",
       "        vertical-align: top;\n",
       "    }\n",
       "\n",
       "    .dataframe thead th {\n",
       "        text-align: right;\n",
       "    }\n",
       "</style>\n",
       "<table border=\"1\" class=\"dataframe\">\n",
       "  <thead>\n",
       "    <tr style=\"text-align: right;\">\n",
       "      <th>match hat</th>\n",
       "      <th>False</th>\n",
       "      <th>True</th>\n",
       "    </tr>\n",
       "    <tr>\n",
       "      <th>real match</th>\n",
       "      <th></th>\n",
       "      <th></th>\n",
       "    </tr>\n",
       "  </thead>\n",
       "  <tbody>\n",
       "    <tr>\n",
       "      <th>False</th>\n",
       "      <td>4591</td>\n",
       "      <td>48</td>\n",
       "    </tr>\n",
       "    <tr>\n",
       "      <th>True</th>\n",
       "      <td>840</td>\n",
       "      <td>82</td>\n",
       "    </tr>\n",
       "  </tbody>\n",
       "</table>\n",
       "</div>"
      ],
      "text/plain": [
       "match hat   False  True \n",
       "real match              \n",
       "False        4591     48\n",
       "True          840     82"
      ]
     },
     "execution_count": 49,
     "metadata": {},
     "output_type": "execute_result"
    }
   ],
   "source": [
    "confusion_model3_train"
   ]
  },
  {
   "cell_type": "code",
   "execution_count": 50,
   "metadata": {},
   "outputs": [
    {
     "data": {
      "text/plain": [
       "0.8403164898399569"
      ]
     },
     "execution_count": 50,
     "metadata": {},
     "output_type": "execute_result"
    }
   ],
   "source": [
    "#accuracy of model3 on train\n",
    "(confusion_model3_train[0][0]+confusion_model3_train[1][1])/len(data2_train)"
   ]
  },
  {
   "cell_type": "code",
   "execution_count": 51,
   "metadata": {},
   "outputs": [
    {
     "data": {
      "text/plain": [
       "0.8252427184466019"
      ]
     },
     "execution_count": 51,
     "metadata": {},
     "output_type": "execute_result"
    }
   ],
   "source": [
    "#accuracy of model3 on test\n",
    "(confusion_model3[0][0]+confusion_model3[1][1])/len(data2_test)"
   ]
  },
  {
   "cell_type": "code",
   "execution_count": 52,
   "metadata": {},
   "outputs": [
    {
     "data": {
      "text/plain": [
       "0.054313099041533544"
      ]
     },
     "execution_count": 52,
     "metadata": {},
     "output_type": "execute_result"
    }
   ],
   "source": [
    "#true positive rate\n",
    "confusion_model3[1][1]/(confusion_model3[0][1]+confusion_model3[1][1])"
   ]
  },
  {
   "cell_type": "code",
   "execution_count": 53,
   "metadata": {},
   "outputs": [
    {
     "data": {
      "text/plain": [
       "0.981829980532122"
      ]
     },
     "execution_count": 53,
     "metadata": {},
     "output_type": "execute_result"
    }
   ],
   "source": [
    "#true negative rate\n",
    "confusion_model3[0][0]/(confusion_model3[0][0]+confusion_model3[1][0])"
   ]
  },
  {
   "cell_type": "markdown",
   "metadata": {},
   "source": [
    "<h1>b.</h1>"
   ]
  },
  {
   "cell_type": "markdown",
   "metadata": {},
   "source": [
    "<h4>Just not to mess the data up completely</h4>"
   ]
  },
  {
   "cell_type": "code",
   "execution_count": 54,
   "metadata": {},
   "outputs": [],
   "source": [
    "data3 = data2"
   ]
  },
  {
   "cell_type": "code",
   "execution_count": 56,
   "metadata": {},
   "outputs": [
    {
     "name": "stdout",
     "output_type": "stream",
     "text": [
      "Requirement already satisfied: imblearn in c:\\users\\taiseii\\anaconda3\\lib\\site-packages (0.0)\n",
      "Requirement already satisfied: imbalanced-learn in c:\\users\\taiseii\\anaconda3\\lib\\site-packages (from imblearn) (0.4.3)\n",
      "Requirement already satisfied: scipy>=0.13.3 in c:\\users\\taiseii\\anaconda3\\lib\\site-packages (from imbalanced-learn->imblearn) (1.1.0)\n",
      "Requirement already satisfied: numpy>=1.8.2 in c:\\users\\taiseii\\anaconda3\\lib\\site-packages (from imbalanced-learn->imblearn) (1.15.4)\n",
      "Requirement already satisfied: scikit-learn>=0.20 in c:\\users\\taiseii\\anaconda3\\lib\\site-packages (from imbalanced-learn->imblearn) (0.20.1)\n"
     ]
    }
   ],
   "source": [
    "import sys\n",
    "!{sys.executable} -m pip install imblearn"
   ]
  },
  {
   "cell_type": "code",
   "execution_count": 108,
   "metadata": {},
   "outputs": [
    {
     "name": "stdout",
     "output_type": "stream",
     "text": [
      "Collecting scikit-plot\n",
      "  Downloading https://files.pythonhosted.org/packages/7c/47/32520e259340c140a4ad27c1b97050dd3254fdc517b1d59974d47037510e/scikit_plot-0.3.7-py3-none-any.whl\n",
      "Requirement already satisfied: scipy>=0.9 in c:\\users\\taiseii\\anaconda3\\lib\\site-packages (from scikit-plot) (1.1.0)\n",
      "Requirement already satisfied: matplotlib>=1.4.0 in c:\\users\\taiseii\\anaconda3\\lib\\site-packages (from scikit-plot) (2.2.3)\n",
      "Collecting joblib>=0.10 (from scikit-plot)\n",
      "  Downloading https://files.pythonhosted.org/packages/0d/1b/995167f6c66848d4eb7eabc386aebe07a1571b397629b2eac3b7bebdc343/joblib-0.13.0-py2.py3-none-any.whl (276kB)\n",
      "Requirement already satisfied: scikit-learn>=0.18 in c:\\users\\taiseii\\anaconda3\\lib\\site-packages (from scikit-plot) (0.20.1)\n",
      "Requirement already satisfied: numpy>=1.7.1 in c:\\users\\taiseii\\anaconda3\\lib\\site-packages (from matplotlib>=1.4.0->scikit-plot) (1.15.4)\n",
      "Requirement already satisfied: cycler>=0.10 in c:\\users\\taiseii\\anaconda3\\lib\\site-packages (from matplotlib>=1.4.0->scikit-plot) (0.10.0)\n",
      "Requirement already satisfied: pyparsing!=2.0.4,!=2.1.2,!=2.1.6,>=2.0.1 in c:\\users\\taiseii\\anaconda3\\lib\\site-packages (from matplotlib>=1.4.0->scikit-plot) (2.2.0)\n",
      "Requirement already satisfied: python-dateutil>=2.1 in c:\\users\\taiseii\\anaconda3\\lib\\site-packages (from matplotlib>=1.4.0->scikit-plot) (2.7.3)\n",
      "Requirement already satisfied: pytz in c:\\users\\taiseii\\anaconda3\\lib\\site-packages (from matplotlib>=1.4.0->scikit-plot) (2018.5)\n",
      "Requirement already satisfied: six>=1.10 in c:\\users\\taiseii\\anaconda3\\lib\\site-packages (from matplotlib>=1.4.0->scikit-plot) (1.11.0)\n",
      "Requirement already satisfied: kiwisolver>=1.0.1 in c:\\users\\taiseii\\anaconda3\\lib\\site-packages (from matplotlib>=1.4.0->scikit-plot) (1.0.1)\n",
      "Requirement already satisfied: setuptools in c:\\users\\taiseii\\anaconda3\\lib\\site-packages (from kiwisolver>=1.0.1->matplotlib>=1.4.0->scikit-plot) (40.2.0)\n",
      "Installing collected packages: joblib, scikit-plot\n",
      "Successfully installed joblib-0.13.0 scikit-plot-0.3.7\n"
     ]
    }
   ],
   "source": [
    "import sys\n",
    "!{sys.executable} -m pip install scikit-plot"
   ]
  },
  {
   "cell_type": "code",
   "execution_count": 57,
   "metadata": {},
   "outputs": [
    {
     "data": {
      "text/plain": [
       "array([[ 6.,  4., 10., 10.],\n",
       "       [ 6.,  5.,  9.,  8.],\n",
       "       [ 7.,  3., 10., 10.],\n",
       "       ...,\n",
       "       [ 5.,  3., 10.,  8.],\n",
       "       [ 5.,  2., 10.,  9.],\n",
       "       [ 6.,  3.,  7.,  9.]])"
      ]
     },
     "execution_count": 57,
     "metadata": {},
     "output_type": "execute_result"
    }
   ],
   "source": [
    "X_train"
   ]
  },
  {
   "cell_type": "code",
   "execution_count": 63,
   "metadata": {},
   "outputs": [
    {
     "name": "stderr",
     "output_type": "stream",
     "text": [
      "C:\\Users\\taiseii\\Anaconda3\\lib\\site-packages\\sklearn\\utils\\validation.py:761: DataConversionWarning: A column-vector y was passed when a 1d array was expected. Please change the shape of y to (n_samples, ), for example using ravel().\n",
      "  y = column_or_1d(y, warn=True)\n"
     ]
    }
   ],
   "source": [
    "#only over sample on the training set\n",
    "from imblearn.over_sampling import SMOTE\n",
    "\n",
    "sm = SMOTE(random_state=0,)\n",
    "X_train_os, Y_train_os = sm.fit_resample(X_train, Y_train)"
   ]
  },
  {
   "cell_type": "code",
   "execution_count": 64,
   "metadata": {},
   "outputs": [
    {
     "data": {
      "text/plain": [
       "array([[ 6.,  4., 10., 10.],\n",
       "       [ 6.,  5.,  9.,  8.],\n",
       "       [ 7.,  3., 10., 10.],\n",
       "       ...,\n",
       "       [ 6.,  1.,  5.,  8.],\n",
       "       [ 7.,  3.,  7.,  8.],\n",
       "       [ 4.,  7.,  6.,  5.]])"
      ]
     },
     "execution_count": 64,
     "metadata": {},
     "output_type": "execute_result"
    }
   ],
   "source": [
    "X_train_os"
   ]
  },
  {
   "cell_type": "code",
   "execution_count": 65,
   "metadata": {},
   "outputs": [
    {
     "data": {
      "text/plain": [
       "{False: 4639, True: 4639}"
      ]
     },
     "execution_count": 65,
     "metadata": {},
     "output_type": "execute_result"
    }
   ],
   "source": [
    "unique, counts = np.unique(Y_train_os, return_counts=True)\n",
    "dict(zip(unique, counts))"
   ]
  },
  {
   "cell_type": "markdown",
   "metadata": {},
   "source": [
    "<h2>model1b</h1>"
   ]
  },
  {
   "cell_type": "code",
   "execution_count": 66,
   "metadata": {},
   "outputs": [
    {
     "data": {
      "text/plain": [
       "RandomForestClassifier(bootstrap=True, class_weight=None, criterion='gini',\n",
       "            max_depth=None, max_features='auto', max_leaf_nodes=None,\n",
       "            min_impurity_decrease=0.0, min_impurity_split=None,\n",
       "            min_samples_leaf=1, min_samples_split=2,\n",
       "            min_weight_fraction_leaf=0.0, n_estimators=1000, n_jobs=None,\n",
       "            oob_score=False, random_state=1, verbose=0, warm_start=False)"
      ]
     },
     "execution_count": 66,
     "metadata": {},
     "output_type": "execute_result"
    }
   ],
   "source": [
    "model1b = RandomForestClassifier(n_estimators=1000, random_state=1 )\n",
    "model1b.fit(X_train_os, Y_train_os)"
   ]
  },
  {
   "cell_type": "code",
   "execution_count": 67,
   "metadata": {},
   "outputs": [],
   "source": [
    "confusion_model1b = pd.crosstab(data2_test['date match'],\n",
    "                                model1b.predict(X_test),\n",
    "                               rownames=['real match'], \n",
    "                                colnames=['match hat'])"
   ]
  },
  {
   "cell_type": "code",
   "execution_count": 68,
   "metadata": {},
   "outputs": [],
   "source": [
    "confusion_model1b_train_os = pd.crosstab(Y_train_os,\n",
    "                                model1b.predict(X_train_os),\n",
    "                               rownames=['real match'], \n",
    "                                colnames=['match hat'])"
   ]
  },
  {
   "cell_type": "code",
   "execution_count": 69,
   "metadata": {},
   "outputs": [
    {
     "data": {
      "text/plain": [
       "0.6990291262135923"
      ]
     },
     "execution_count": 69,
     "metadata": {},
     "output_type": "execute_result"
    }
   ],
   "source": [
    "#accuracy of model1b on test\n",
    "(confusion_model1b[0][0]+confusion_model1b[1][1])/len(data2_test)"
   ]
  },
  {
   "cell_type": "code",
   "execution_count": 70,
   "metadata": {},
   "outputs": [
    {
     "data": {
      "text/plain": [
       "0.8001724509592585"
      ]
     },
     "execution_count": 70,
     "metadata": {},
     "output_type": "execute_result"
    }
   ],
   "source": [
    "#accuracy of model1b on train\n",
    "(confusion_model1b_train_os[0][0]+\n",
    " confusion_model1b_train_os[1][1])/len(X_train_os)"
   ]
  },
  {
   "cell_type": "markdown",
   "metadata": {},
   "source": [
    "sign of overfitting. However, over sampled dataset might have caused this problem since SMOTE is using KNN to create \n",
    "extra samples. these psudo dample might not represent the true population which lead the randomforest to capture psuedo \n",
    "pattern. Which is morelikely from the performance of the model from the previous test"
   ]
  },
  {
   "cell_type": "code",
   "execution_count": 71,
   "metadata": {},
   "outputs": [
    {
     "data": {
      "text/plain": [
       "0.38338658146964855"
      ]
     },
     "execution_count": 71,
     "metadata": {},
     "output_type": "execute_result"
    }
   ],
   "source": [
    "#true positive rate\n",
    "confusion_model1b[1][1]/(confusion_model1b[0][1]+confusion_model1b[1][1])"
   ]
  },
  {
   "cell_type": "code",
   "execution_count": 72,
   "metadata": {},
   "outputs": [
    {
     "data": {
      "text/plain": [
       "0.763140817650876"
      ]
     },
     "execution_count": 72,
     "metadata": {},
     "output_type": "execute_result"
    }
   ],
   "source": [
    "#true negative rate\n",
    "confusion_model1b[0][0]/(confusion_model1b[0][0]+confusion_model1b[1][0])"
   ]
  },
  {
   "cell_type": "markdown",
   "metadata": {},
   "source": [
    "However, we can observe dramatic rise in the true positive rate. Model1b is more general than model1 which is good"
   ]
  },
  {
   "cell_type": "markdown",
   "metadata": {},
   "source": [
    "<h2>ROC model1b</h2>"
   ]
  },
  {
   "cell_type": "code",
   "execution_count": 105,
   "metadata": {},
   "outputs": [],
   "source": [
    "from sklearn.metrics import roc_curve, auc, roc_auc_score\n",
    "from sklearn.preprocessing import label_binarize"
   ]
  },
  {
   "cell_type": "code",
   "execution_count": 89,
   "metadata": {},
   "outputs": [],
   "source": [
    "model1b_prob = model1b.predict_proba(X_test)"
   ]
  },
  {
   "cell_type": "code",
   "execution_count": 91,
   "metadata": {},
   "outputs": [
    {
     "name": "stdout",
     "output_type": "stream",
     "text": [
      "[[1.         0.        ]\n",
      " [0.96101315 0.03898685]\n",
      " [0.90057575 0.09942425]\n",
      " ...\n",
      " [0.88863752 0.11136248]\n",
      " [0.75477651 0.24522349]\n",
      " [0.70393448 0.29606552]]\n"
     ]
    }
   ],
   "source": [
    "#testing the value\n",
    "print(model1b_prob)"
   ]
  },
  {
   "cell_type": "code",
   "execution_count": 106,
   "metadata": {},
   "outputs": [],
   "source": [
    "#was this even necessary?\n",
    "Y_train_os_bin = label_binarize(Y_train_os, classes=[0,1])\n",
    "Y_test_bin = label_binarize(Y_test, classes=[0,1])\n",
    "n_classes = Y_test_bin.shape[1]"
   ]
  },
  {
   "cell_type": "code",
   "execution_count": 93,
   "metadata": {},
   "outputs": [],
   "source": [
    "model1_fpr = dict()\n",
    "model1_tpr = dict()\n",
    "model1_roc_auc = dict()"
   ]
  },
  {
   "cell_type": "code",
   "execution_count": 116,
   "metadata": {},
   "outputs": [],
   "source": [
    "import scikitplot as skplt\n",
    "from sklearn.metrics import f1_score"
   ]
  },
  {
   "cell_type": "code",
   "execution_count": 114,
   "metadata": {},
   "outputs": [
    {
     "data": {
      "image/png": "[encoded data removed]",
      "text/plain": [
       "<Figure size 432x288 with 1 Axes>"
      ]
     },
     "metadata": {
      "needs_background": "light"
     },
     "output_type": "display_data"
    }
   ],
   "source": [
    "skplt.metrics.plot_roc(Y_test, model1b_prob)\n",
    "plt.show()"
   ]
  },
  {
   "cell_type": "markdown",
   "metadata": {},
   "source": [
    "<h2>F1 score</h1>"
   ]
  },
  {
   "cell_type": "code",
   "execution_count": 117,
   "metadata": {},
   "outputs": [
    {
     "data": {
      "text/plain": [
       "0.30075187969924816"
      ]
     },
     "execution_count": 117,
     "metadata": {},
     "output_type": "execute_result"
    }
   ],
   "source": [
    "f1_score(Y_test, model1b.predict(X_test))"
   ]
  },
  {
   "cell_type": "markdown",
   "metadata": {},
   "source": [
    "<h2>model2b</h2>"
   ]
  },
  {
   "cell_type": "code",
   "execution_count": 339,
   "metadata": {},
   "outputs": [
    {
     "data": {
      "text/plain": [
       "SVC(C=1.0, cache_size=200, class_weight=None, coef0=0.0,\n",
       "  decision_function_shape='ovr', degree=3, gamma='auto', kernel='rbf',\n",
       "  max_iter=-1, probability=False, random_state=None, shrinking=True,\n",
       "  tol=0.001, verbose=False)"
      ]
     },
     "execution_count": 339,
     "metadata": {},
     "output_type": "execute_result"
    }
   ],
   "source": [
    "model2b=SVC(gamma='auto')\n",
    "model2b.fit(X_train_os,Y_train_os)"
   ]
  },
  {
   "cell_type": "code",
   "execution_count": 382,
   "metadata": {},
   "outputs": [],
   "source": [
    "confusion_model2b = pd.crosstab(data2_test['date match'],\n",
    "                                model2b.predict(X_test),\n",
    "                               rownames=['real match'], \n",
    "                                colnames=['match hat'])"
   ]
  },
  {
   "cell_type": "code",
   "execution_count": 383,
   "metadata": {},
   "outputs": [],
   "source": [
    "confusion_model2b_train_os = pd.crosstab(Y_train_os,\n",
    "                                model2b.predict(X_train_os),\n",
    "                               rownames=['real match'], \n",
    "                                colnames=['match hat'])"
   ]
  },
  {
   "cell_type": "code",
   "execution_count": 384,
   "metadata": {},
   "outputs": [],
   "source": [
    "def conf2accu(confusion_matrix,dataset):\n",
    "    accu=(confusion_matrix[0][0]+confusion_matrix[1][1])/len(dataset)\n",
    "    return accu;"
   ]
  },
  {
   "cell_type": "code",
   "execution_count": 385,
   "metadata": {},
   "outputs": [
    {
     "data": {
      "text/plain": [
       "0.598705501618123"
      ]
     },
     "execution_count": 385,
     "metadata": {},
     "output_type": "execute_result"
    }
   ],
   "source": [
    "#accuracy of model2b on test\n",
    "conf2accu(confusion_model2b, X_test)"
   ]
  },
  {
   "cell_type": "code",
   "execution_count": 386,
   "metadata": {},
   "outputs": [
    {
     "data": {
      "text/plain": [
       "0.67870230653158"
      ]
     },
     "execution_count": 386,
     "metadata": {},
     "output_type": "execute_result"
    }
   ],
   "source": [
    "#accuracy of model2b on train\n",
    "conf2accu(confusion_model2b_train_os, X_train_os)"
   ]
  },
  {
   "cell_type": "code",
   "execution_count": 389,
   "metadata": {},
   "outputs": [],
   "source": [
    "def conf2tp(confusion_matrix):\n",
    "    tp=confusion_matrix[1][1]/(confusion_matrix[0][1]+confusion_matrix[1][1])\n",
    "    return tp;"
   ]
  },
  {
   "cell_type": "code",
   "execution_count": 390,
   "metadata": {},
   "outputs": [
    {
     "data": {
      "text/plain": [
       "0.6006389776357828"
      ]
     },
     "execution_count": 390,
     "metadata": {},
     "output_type": "execute_result"
    }
   ],
   "source": [
    "#true positive rate\n",
    "conf2tp(confusion_model2b)"
   ]
  },
  {
   "cell_type": "code",
   "execution_count": 391,
   "metadata": {},
   "outputs": [],
   "source": [
    "def conf2tn(confusion_matrix):\n",
    "    tn=confusion_model1b[0][0]/(confusion_model1b[0][0]+confusion_model1b[1][0])\n",
    "    return tn;"
   ]
  },
  {
   "cell_type": "code",
   "execution_count": 393,
   "metadata": {},
   "outputs": [
    {
     "data": {
      "text/plain": [
       "0.763140817650876"
      ]
     },
     "execution_count": 393,
     "metadata": {},
     "output_type": "execute_result"
    }
   ],
   "source": [
    "#true negative rate\n",
    "conf2tn(confusion_model2b)"
   ]
  },
  {
   "cell_type": "markdown",
   "metadata": {},
   "source": [
    "<h2>model3b</h2>"
   ]
  },
  {
   "cell_type": "code",
   "execution_count": 406,
   "metadata": {},
   "outputs": [
    {
     "data": {
      "text/plain": [
       "AdaBoostClassifier(algorithm='SAMME.R',\n",
       "          base_estimator=DecisionTreeClassifier(class_weight=None, criterion='gini', max_depth=10,\n",
       "            max_features=None, max_leaf_nodes=None,\n",
       "            min_impurity_decrease=0.0, min_impurity_split=None,\n",
       "            min_samples_leaf=1, min_samples_split=2,\n",
       "            min_weight_fraction_leaf=0.0, presort=False, random_state=None,\n",
       "            splitter='best'),\n",
       "          learning_rate=1.0, n_estimators=200, random_state=None)"
      ]
     },
     "execution_count": 406,
     "metadata": {},
     "output_type": "execute_result"
    }
   ],
   "source": [
    "model3b = AdaBoostClassifier(DecisionTreeClassifier(max_depth=10),\n",
    "                           algorithm=\"SAMME.R\",\n",
    "                            n_estimators=200\n",
    "                           )\n",
    "model3b.fit(X_train_os,Y_train_os)"
   ]
  },
  {
   "cell_type": "code",
   "execution_count": 407,
   "metadata": {},
   "outputs": [],
   "source": [
    "confusion_model3b = pd.crosstab(data2_test['date match'],\n",
    "                                model3.predict(X_test),\n",
    "                               rownames=['real match'], \n",
    "                                colnames=['match hat'])"
   ]
  },
  {
   "cell_type": "code",
   "execution_count": 408,
   "metadata": {},
   "outputs": [],
   "source": [
    "confusion_model3b_train_os = pd.crosstab(Y_train_os,\n",
    "                                model3b.predict(X_train_os),\n",
    "                               rownames=['real match'], \n",
    "                                colnames=['match hat'])"
   ]
  },
  {
   "cell_type": "code",
   "execution_count": 415,
   "metadata": {},
   "outputs": [
    {
     "data": {
      "text/plain": [
       "0.8241639697950378"
      ]
     },
     "execution_count": 415,
     "metadata": {},
     "output_type": "execute_result"
    }
   ],
   "source": [
    "#accuracy of model3b\n",
    "conf2accu(confusion_model3b, X_test)"
   ]
  },
  {
   "cell_type": "code",
   "execution_count": 414,
   "metadata": {},
   "outputs": [
    {
     "data": {
      "text/plain": [
       "0.8001724509592585"
      ]
     },
     "execution_count": 414,
     "metadata": {},
     "output_type": "execute_result"
    }
   ],
   "source": [
    "#accuracy of model3b on over sampled dataset\n",
    "conf2accu(confusion_model3b_train_os, X_train_os)"
   ]
  },
  {
   "cell_type": "code",
   "execution_count": 413,
   "metadata": {},
   "outputs": [
    {
     "data": {
      "text/plain": [
       "0.05750798722044728"
      ]
     },
     "execution_count": 413,
     "metadata": {},
     "output_type": "execute_result"
    }
   ],
   "source": [
    "#true positive rate\n",
    "conf2tp(confusion_model3b)"
   ]
  },
  {
   "cell_type": "code",
   "execution_count": 416,
   "metadata": {},
   "outputs": [
    {
     "data": {
      "text/plain": [
       "0.763140817650876"
      ]
     },
     "execution_count": 416,
     "metadata": {},
     "output_type": "execute_result"
    }
   ],
   "source": [
    "#true negative rate\n",
    "conf2tn(confusion_model3b)"
   ]
  }
 ],
 "metadata": {
  "kernelspec": {
   "display_name": "Python 3",
   "language": "python",
   "name": "python3"
  },
  "language_info": {
   "codemirror_mode": {
    "name": "ipython",
    "version": 3
   },
   "file_extension": ".py",
   "mimetype": "text/x-python",
   "name": "python",
   "nbconvert_exporter": "python",
   "pygments_lexer": "ipython3",
   "version": "3.7.0"
  }
 },
 "nbformat": 4,
 "nbformat_minor": 2
}
